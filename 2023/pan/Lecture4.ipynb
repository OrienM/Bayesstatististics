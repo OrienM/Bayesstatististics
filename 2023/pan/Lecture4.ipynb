{
 "cells": [
  {
   "cell_type": "markdown",
   "metadata": {},
   "source": [
    "## 4.4 Sequential analysis: Evolving with data "
   ]
  },
  {
   "cell_type": "markdown",
   "metadata": {},
   "source": [
    "\n",
    "> 🎈Recap: 在之前我们探讨了随着更多数据的到来，数据的影响力逐渐增加，先验观念的影响力逐渐减小，从而影响后验理解的演进。\n",
    "\n",
    "我们再次回顾一下 第3节课中例子。纣王让姬发在质子团中组织对于自己支持率的民意调查。\n",
    "- 其中，π 代表的是支持纣王的概率。\n",
    "- 我们假设一开始他的支持率很低：π ∼ Beta(1, 10)。\n",
    "- 但随着纣王施展他的权威，越来越多人对他的态度开始产生了改变。\n",
    "- 当然，一些人在纣王的淫威下选择倒戈于他，另一些人不满于的他霸权选择反抗。\n",
    "- 现在，姬发每天都会对纣王支持率进行一次统计，并把之前的统计作为先验，而帮当天的统计作为数据，从而推测纣王在之后的支持率。\n",
    "\n",
    "![Image Name](https://cdn.kesci.com/upload/s141bvd2cb.PNG?imageView2/0/w/600/h/600)  "
   ]
  },
  {
   "cell_type": "markdown",
   "metadata": {},
   "source": [
    "- 第一天，姬发评估了 n=10 名质子，只有 Y=1 名质子选择支持纣王。因此，到第一天结束时，姬发对 π 的理解已经发生了改变：\n",
    "    $$\n",
    "    \\pi | (Y = 1) \\sim \\text{Beta}(2,19)\n",
    "    $$\n",
    "\n",
    "> 后验参数是通过 α + y = 1 + 1 和 β + n − y = 10 + 10 − 1 计算的。\n"
   ]
  },
  {
   "cell_type": "markdown",
   "metadata": {},
   "source": [
    "- 第二天，被调查的质子更多：在 n = 20 质子中，有 Y = 17 的突然选择支持纣王(🤐听说他们的父亲受到了威胁)。因此，到第二天结束时，姬发对 π 的估计再次发生了改变：\n",
    "\n",
    "> ❔问题！第二天结束时，姬发对 π 的后验估计是什么？\n",
    "> - a) Beta(19,22) \n",
    "> - b) Beta(18,13)"
   ]
  },
  {
   "cell_type": "markdown",
   "metadata": {},
   "source": [
    "如果你的答案是“a”，那么你和姬发的估计是一致的！\n",
    "\n",
    "- 第二天结束时 π 的后验模型是 Beta(19,22)。\n",
    "\n",
    "在第三天，n = 10 质子中 Y = 8质子选择支持纣王 (情况似乎不妙了😱)\n",
    "\n",
    "- 姬发对纣王支持率 π 的估计从 Beta(19,22) 逐渐演变为 Beta(27,24)。\n",
    "\n",
    "可以发现，姬发对纣王的支持率的估计从原始的 Beta(1,10) 巨变为在三天研究结束时的 Beta(27,24)。"
   ]
  },
  {
   "cell_type": "markdown",
   "metadata": {},
   "source": [
    "**顺序贝叶斯分析(sequential Bayesian analysis)**\n",
    "\n",
    "姬发刚刚逐步更新对纣王支持率 π 的后验模型的过程，更一般地被称为顺序贝叶斯分析或贝叶斯学习(Bayesian learning)。\n",
    "- 第二天：后验参数是通过 α + y = 2 + 17 和 β + n − y = 19 + 20 − 17 计算的。\n",
    "- 第三天：后验参数是通过 α + y = 19 + 8 和 β + n − y = 22 + 10 − 8 计算的。\n",
    "\n",
    "TABLE 4.3\n",
    "|Day|Data|Model|\n",
    "|---|---|---|\n",
    "|0|NA|Beta(1,10)|\n",
    "|1|Y = 1 of n = 10|Beta(2,19)|\n",
    "|2|Y = 17 of n = 20|Beta(19,22)|\n",
    "|3|Y = 8 of n = 10|Beta(27,24)|\n",
    "\n",
    "FIGURE 4.5\n",
    "![](https://www.bayesrulesbook.com/bookdown_files/figure-html/ch4-sequential-plot-1-1.png)"
   ]
  },
  {
   "cell_type": "markdown",
   "metadata": {},
   "source": [
    "**顺序贝叶斯分析（又称贝叶斯学习）** \n",
    "\n",
    "- 在顺序贝叶斯分析中，随着新数据的到来，后验模型会逐步更新。\n",
    "- 每一份新数据都会使前一次后验模型（反映我们在观察到这些数据之前的理解）成为新的先验模型。\n",
    "\n",
    "\n",
    "![Image Name](https://cdn.kesci.com/upload/image/rhqd6akbc6.gif?imageView2/0/w/500/h/500)  "
   ]
  },
  {
   "cell_type": "markdown",
   "metadata": {},
   "source": [
    "贝叶斯框架的一个最强大的特性就是能够随着新数据的到来而演进。这种顺序分析还维持了两个基本的且符合常识的特性。\n",
    "\n",
    "- 首先，最终的后验模型是数据顺序不变的，即，它不受我们观察数据的顺序的影响。\n",
    "- 例如，姬发以第三天的观测为先验，以第一和二天的观测为数据：第三天 Y = 8 的 n = 10，第二天 Y = 17 的 n = 20，第一天 Y = 1 的 n = 10。\n",
    "- 虽然姬发对 π 的推断的演进路径不同。但是，它仍然会最终达到相同的地方——Beta(27,24) 后验。\n",
    "\n",
    "TABLE 4.4\n",
    "|Day|Data|Model|\n",
    "|---|---|---|\n",
    "|0|NA|Beta(1,10)|\n",
    "|1|Y = 8 of n = 10|Beta(9,12)|\n",
    "|2|Y = 17 of n = 20|Beta(26,15)|\n",
    "|3|Y = 1 of n = 10|Beta(27,24)|\n",
    "\n",
    "![](https://www.bayesrulesbook.com/bookdown_files/figure-html/ch4-sequential-plot-2-1.png)\n",
    "\n",
    "顺序分析的第二个基本特性是，最终的后验只依赖于累积的数据。\n",
    "- 例如，在姬发三天的观测中，共有 n = 10 + 20 + 10 = 40 被观测者，其中 Y = 1 + 17 + 8 = 26 的质子施选择支持纣王。\n",
    "- 甚至，姬发可以一次性评估这些数据，而不是逐步评估。这样，他可以直接从原始的 Beta(1,10) 先验模型跳到 π 的 Beta(27,24) 后验模型。\n",
    "- 也就是说，无论我们是逐步评估数据还是一次性评估，我们最终会得到相同的结果。"
   ]
  },
  {
   "cell_type": "markdown",
   "metadata": {},
   "source": [
    "**补充：贝叶斯顺序分析两大特征的数学证明**\n",
    "\n",
    "在之前我们看到了数据顺序不变性的实例。接下来，我们将证明这一特性适用于所有贝叶斯模型。\n",
    "\n",
    "> 数据顺序不变性 定义 θ 为感兴趣的任意参数，其先验概率密度函数为 f (θ)。那么，我们先观察数据点 y1，然后观察第二个数据点 y2 的顺序，将产生与先观察 y2，然后观察 y1 相同的后验模型 θ：f (θ∣y1, y2) = f (θ∣y2, y1)。同样，后验模型对于一次性观察所有数据和顺序观察数据是不变的。\n",
    "\n",
    "为了证明数据顺序不变性的性质，让我们首先指定后验概率密度函数 f (θ∣y1, y2) 的结构，该函数通过依次观察数据 y1 和 y2 的方式进行演化。在这个演化的第一步中，我们从原始先验概率密度函数 f (θ) 和给定第一个数据点 y1 的似然函数 L(θ∣y1) 构建后验概率密度函数：\n",
    "\n",
    "$$\n",
    "f(\\theta|y_1) = \\frac{\\text{先验概率} \\cdot \\text{似然函数}}{\\text{归一化常数}} = \\frac{f(\\theta)L(\\theta|y_1)}{f(y_1)}\n",
    "$$\n",
    "\n",
    "在第二步中，我们根据观察到的新数据 y2 更新我们的模型。在这样做时，不要忘记我们从由 f (θ∣y1) 指定的先验模型开始，因此\n",
    "\n",
    "$$\n",
    "f(\\theta|y_2) = \\frac{\\frac{f(\\theta)L(\\theta|y_1)}{f(y_1)}L(\\theta|y_2)}{f(y_2)} =  \\frac{f(\\theta)L(\\theta|y_1)L(\\theta|y_2)}{f(y_1)f(y_2)}\n",
    "$$\n",
    "\n",
    "类似地，以相反的顺序观察数据 y2 然后 y1，会产生等价的后验模型：\n",
    "\n",
    "$$\n",
    "f(\\theta|y_2,y_1) =  \\frac{f(\\theta)L(\\theta|y_2)L(\\theta|y_1)}{f(y_2)f(y_1)} .\n",
    "$$\n",
    "\n",
    "最后，不仅数据的顺序不影响 θ 的最终后验模型，而且观察数据是一次性还是顺序观察也无关紧要。为此，假设我们从原始的 f (θ) 先验开始，并同时观察数据 (y1, y2)，而不是顺序观察。进一步假设这些数据点在无条件和有条件下是独立的，因此\n",
    "\n",
    "$$\n",
    "f(y_1,y_2) = f(y_1)f(y_2) \\;\\; \\text{ 和 } \\;\\; f(y_1,y_2 | \\theta) = f(y_1|\\theta)f(y_2|\\theta)  .\n",
    "$$\n",
    "\n",
    "那么，从这个\"数据扔进来\"的过程得到的后验概率密度函数等同于以上顺序分析得到的结果：\n",
    "\n",
    "$$\n",
    "\\begin{split}\n",
    "f(\\theta|y_1,y_2) \n",
    "& = \\frac{f(\\theta)L(\\theta|y_1,y_2)}{f(y_1,y_2)} \\\\\n",
    "& = \\frac{f(\\theta)f(y_1,y_2|\\theta)}{f(y_1)f(y_2)} \\\\\n",
    "& = \\frac{f(\\theta)L(\\theta|y_1)L(\\theta|y_2)}{f(y_1)f(y_2)}  . \\\\\n",
    "\\end{split}\n",
    "$$"
   ]
  },
  {
   "cell_type": "markdown",
   "metadata": {},
   "source": [
    "### 极端先验对于顺序分析的影响\n",
    "\n",
    "一个极端固执的先验模型可能会使得贝叶斯失去顺序分析的优势。\n",
    "\n",
    "- 这样的极端先验模型往往包含先验概率为零的信念。\n",
    "- 如果姬发一开始对纣王的支持有着固执的信念，坚持认为纣王不可能获得支持。例如 π 在 0 到 0.25 之间的任何值是等可能的，并且肯定不会超过 0.25。通过在 0 到 0.25 上的均匀模型(uniform model)可以表达这种先验信念：\n",
    "\n",
    "$$\n",
    "\\pi \\sim \\text{Unif}(0,0.25)\n",
    "$$\n",
    "\n",
    "$$\n",
    "f(\\pi) = 4 \\; \\text{ for } \\pi \\in [0, 0.25] \n",
    "$$\n",
    "\n",
    "现在，假设姬发被告知 10 名质子中有 8 人支持纣王。这个 80% 的数据与姬发的信念相悖。\n",
    "\n",
    "> ❔问题！请根据这个数据猜测一下姬发对于纣王支持率的后验推断。\n",
    "\n",
    "![](https://www.bayesrulesbook.com/bookdown_files/figure-html/ch4-stubborn-plot-1.png)"
   ]
  },
  {
   "cell_type": "markdown",
   "metadata": {},
   "source": [
    "\n",
    "尽管图 (c)看起来奇怪， 但它的确代表了姬发在观察到数据的情况下对信念 π 的更新。\n",
    "\n",
    "- **后验概率模型的定义与先验概率模型的定义相同**。\n",
    "- 也就是说，后验模型的形状继承自先验模型。\n",
    "- 由于姬发的先验信念不存在对于纣王的信任，也就是超过 0.25 的 π 值的概率分配为零，他们的后验模型也必须将该范围内的任何值的概率分配为零。\n",
    "- 从数学上讲，对于任意的 π ∉ [0, 0.25]，后验概率密度函数 f (π∣y = 8) = 0，对于任意的 π ∈ [0, 0.25]，有\n",
    "\n",
    "$$\n",
    "\\begin{split}\n",
    "f(\\pi | y=8) \n",
    "& \\propto f(\\pi)L(\\pi | y=8) \\\\\n",
    "& = 4 \\cdot \\left(\\!\\begin{array}{c} 10 \\\\ 8 \\end{array}\\!\\right) \\ \\pi^{8} (1-\\pi)^{2} \\\\\n",
    "& \\propto \\pi^{8} (1-\\pi)^{2}. \\\\\n",
    "\\end{split}\n",
    "$$\n",
    "\n",
    "这个数学结果的含义是巨大的。\n",
    "- 无论姬发收集到多少相反的证据，他的后验概率永远不会超过 0.25 的上限"
   ]
  },
  {
   "cell_type": "markdown",
   "metadata": {},
   "source": [
    "> Tips：如何避免令人遗憾的先验模型\n",
    "> - 幸运的是，我们有一些好消息, 这种使得贝叶斯顺序分析失效的情况是完全可以避免的。\n",
    "> - 确保对每个可能的 π 值都分配非零的可信度，即使这个可信度接近于零。例如，如果 π 是一个可以从 0 到 1 的比例，那么你的先验模型也应该在这个连续范围内进行定义。\n",
    "\n",
    "![Image Name](https://cdn.kesci.com/upload/image/rhqcb9gji7.png?imageView2/0/w/500/h/500) "
   ]
  },
  {
   "cell_type": "markdown",
   "metadata": {},
   "source": [
    "# 讨论：贝叶斯的主观性\n",
    "\n",
    "在之前我们提到了一个关于贝叶斯统计的常见批评观点——它的主观性。\n",
    "  \n",
    "- 一些人担心“主观地”调整先验模型会使贝叶斯分析人员得出他们想要的任何结论。\n",
    "- 在学习完这节课后我们可以更严谨地回应这个观点。\n",
    "\n",
    "> 在我们回应之前，重新思考并扩展一下你在整本书中探讨过的一些概念。\n",
    "> ❔问题！对于下面的每个陈述，请判断该陈述是真还是假，并提供你的推理。\n",
    "\n",
    "- 所有的先验选择都是具有信息量的。\n",
    "- 有可能有充分的理由选择具有信息量的先验。\n",
    "- 任何先验选择都可以被足够多的数据克服。\n",
    "- 频率学派的范式是完全客观的。"
   ]
  },
  {
   "cell_type": "markdown",
   "metadata": {},
   "source": [
    "答案：\n",
    "\n",
    "1. 错误。模糊的先验通常是不具有信息量的。\n",
    "2. 正确。我们可能有充足的先前数据或专业知识来构建我们的先验。\n",
    "3. 错误。如果你将潜在的参数值赋予零先验概率，任何数量的数据都无法改变它！\n",
    "4. 错误。主观性总是渗透到频率学派和贝叶斯分析中。在贝叶斯范式中，我们至少可以命名和量化这种主观性的方面。"
   ]
  },
  {
   "cell_type": "markdown",
   "metadata": {},
   "source": [
    "在第4节课中，你已经确认贝叶斯分析确实可以基于“主观”经验建立先验。\n",
    "\n",
    "- 在最理想的情况下，这不是件坏事，主观先验可以反映出丰富的过去经验，应该纳入我们的分析中——不这样做是不幸的。即使主观先验与实际观察到的证据相矛盾，随着这些证据的累积，它对后验的影响会逐渐消失。\n",
    "- 我们已经见过一个最糟糕的例外情况。而且这是可以预防的。如果主观先验足够顽固和极端，它会将可能的参数值的概率分配为零，那么任何数量的反证据都不足以改变它。"
   ]
  },
  {
   "cell_type": "markdown",
   "metadata": {},
   "source": [
    "贝叶斯学派和频率学派的差异对比  \n",
    "\n",
    "**任何统计分析方法都不可能完全客观，因此主观性是一个相对概念:**  \n",
    "\n",
    "* 贝叶斯学派的主观性通过先验的设定来体现，透明，不易让人产生误解  \n",
    "\n",
    "* 频率学派的主观性暗含在各种**前提预设**中，比如方差分析中的方差齐性和正态性，这种看似‘客观的’预设，一方面难以满足，一方面也是一种主观的设定。  \n",
    "\n",
    "* 更为宏观的来说，样本的抽取，数据清理方式的选择，分析方法的选择，$p$值的设定，这些都存在主观性。因此，频率学派并没有想象的那么‘客观’。  \n",
    "\n",
    "* 主观不一定是坏事：通过量化方法将个体的经验和专家知识整合到数据分析之中。 \n",
    "\n",
    "|                     | 频率学派   | 贝叶斯学派   |  \n",
    "| ------------------- | ---------- | ------------ |  \n",
    "| 世界真相 (参数) | 固定       | 变化         |  \n",
    "| 概率                | 抽样的噪音 | 信念         |  \n",
    "| 推断过程            | NHST       | 贝叶斯定理   |  \n",
    "| 数据                | 存在噪音   | 固定         |  \n",
    "| 推断可更新性        | 否         | 是           |  \n",
    "| 主观性              | 前提预设   | 通过先验设定 |\n",
    "\n",
    "最后，尽管我们鼓励你在应用贝叶斯方法时保持批判性，但请不要担心它们比频率主义方法更主观。没有人能够从分析中完全消除主观性。我们所拥有的生活经验和知识影响着我们的一切，从我们提出的研究问题到我们收集的数据。在贝叶斯和频率主义分析中都要考虑这种主观性的潜在影响是很重要的。"
   ]
  },
  {
   "cell_type": "markdown",
   "metadata": {},
   "source": [
    "练习 4.1（将先验与描述配对）。\n",
    "\n",
    "下面列出了五种不同的π的先验模型。\n",
    "请用以下描述之一标记每个先验：有些偏向π < 0.5，有些强烈偏向π < 0.5，有些将π置于0.5中心，有些偏向π > 0.5，有些强烈偏向π > 0.5。\n",
    "- a) Beta(1.8,1.8)\n",
    "- b) Beta(3,2)\n",
    "- c) Beta(1,10)\n",
    "- d) Beta(1,3)\n",
    "- e) Beta(17,2)\n",
    "\n",
    "练习 4.2（将图形与代码配对）。\n",
    "\n",
    "下面的绘图函数更可能使用了哪些参数生成了下面的图形？\n",
    "![](https://www.bayesrulesbook.com/bookdown_files/figure-html/unnamed-chunk-142-1.png)\n",
    "- a) alpha = 2, beta = 2, y = 8, n = 11\n",
    "- b) alpha = 2, beta = 2, y = 3, n = 11\n",
    "- c) alpha = 3, beta = 8, y = 2, n = 6\n",
    "- d) alpha = 3, beta = 8, y = 4, n = 6\n",
    "- e) alpha = 3, beta = 8, y = 2, n = 4\n",
    "- f) alpha = 8, beta = 3, y = 2, n = 4"
   ]
  },
  {
   "cell_type": "code",
   "execution_count": 1,
   "metadata": {},
   "outputs": [
    {
     "data": {
      "image/png": "[encoded data removed]",
      "text/plain": [
       "<Figure size 640x480 with 1 Axes>"
      ]
     },
     "metadata": {},
     "output_type": "display_data"
    }
   ],
   "source": [
    "# 导入数据加载和处理包：pandas\n",
    "import pandas as pd\n",
    "# 导入数字和向量处理包：numpy\n",
    "import numpy as np\n",
    "# 导入基本绘图工具：matplotlib\n",
    "import matplotlib.pyplot as plt\n",
    "# 导入高级绘图工具 seaborn 为 sns\n",
    "import seaborn as sns\n",
    "# 导入统计建模工具包 scipy.stats 为 st\n",
    "import scipy.stats as st \n",
    "\n",
    "\n",
    "#---------------------------------------------------------------------------\n",
    "#                            请填入 Beta 分布参数，alpha 和 beta\n",
    "#---------------------------------------------------------------------------\n",
    "# 设置 Beta 分布参数\n",
    "a = ...     # alpha\n",
    "b = ...     # beta\n",
    "\n",
    "#---------------------------------------------------------------------------\n",
    "#                            请填入观测数据 y 和 n\n",
    "#---------------------------------------------------------------------------\n",
    "y = ...     # y 代表支持数\n",
    "n = ...     # n 代表总人数\n",
    "\n",
    "\n",
    "# 设置 x 轴范围 [0,1]\n",
    "x = np.linspace(0,1,10000)\n",
    "# 形成先验分布 \n",
    "prior = st.beta.pdf(x,a,b)/np.sum(st.beta.pdf(x,a,b))\n",
    "# 形成似然\n",
    "likelihood = st.binom.pmf(y,n,x)\n",
    "\n",
    "# 计算后验\n",
    "unnorm_posterior = prior * likelihood                  # 计算分子\n",
    "posterior = unnorm_posterior/np.sum(unnorm_posterior)  # 结合分母进行计算\n",
    "likelihood = likelihood /np.sum(likelihood)            # 为了方便可视化，对似然进行类似后验的归一化操作 \n",
    "\n",
    "# 绘图\n",
    "plt.plot(x,posterior, color=\"#009e74\", alpha=0.5, label=\"posterior\")\n",
    "plt.plot(x,likelihood, color=\"#0071b2\", alpha=0.5, label=\"likelihood\")\n",
    "plt.plot(x,prior, color=\"#f0e442\", alpha=0.5, label=\"prior\")\n",
    "plt.legend()\n",
    "plt.xlabel(\"Michelle's support ratio $\\pi$\")\n",
    "plt.fill_between(x, prior, color=\"#f0e442\", alpha=0.5)\n",
    "plt.fill_between(x, likelihood, color=\"#0071b2\", alpha=0.5)\n",
    "plt.fill_between(x, posterior, color=\"#009e74\", alpha=0.5)\n",
    "sns.despine()"
   ]
  },
  {
   "cell_type": "markdown",
   "metadata": {},
   "source": [
    "## 总结\n",
    "\n",
    "在本节课程中，我们探讨了后验模型在先验模型和数据之间的平衡。总的来说，我们观察到以下趋势：\n",
    "\n",
    "- 先验影响：先验越不模糊、越具有信息量，即我们对先验越有确定性，先验对后验的影响就越大。\n",
    "- 数据影响：我们拥有的数据越多，数据对后验的影响就越大。因此，即使具有不同的先验，如果两次测量的数据充足并且相似，那么他们的后验结果会非常相似。\n",
    "- 此外，我们还看到在顺序贝叶斯分析中，随着越来越多的数据的出现，我们逐步更新后验模型。这个后验的最终结果不受观察数据的顺序（即后验对数据的顺序不变）或者是一次性观察数据还是逐步观察数据的影响。"
   ]
  }
 ],
 "metadata": {
  "kernelspec": {
   "display_name": "py39hddm",
   "language": "python",
   "name": "python3"
  },
  "language_info": {
   "codemirror_mode": {
    "name": "ipython",
    "version": 3
   },
   "file_extension": ".py",
   "mimetype": "text/x-python",
   "name": "python",
   "nbconvert_exporter": "python",
   "pygments_lexer": "ipython3",
   "version": "3.9.18"
  },
  "orig_nbformat": 4
 },
 "nbformat": 4,
 "nbformat_minor": 2
}
