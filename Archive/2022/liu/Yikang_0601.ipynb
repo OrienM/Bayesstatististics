{
 "cells": [
  {
   "cell_type": "markdown",
   "metadata": {},
   "source": [
    "# Lecture 6: Denominator and Posterior\n",
    "\n",
    "## Instructor： 胡传鹏（博士）[Dr. Hu Chuan-Peng]\n",
    "\n",
    "### 南京师范大学心理学院[School of Psychology, Nanjing Normal University]"
   ]
  },
  {
   "cell_type": "markdown",
   "metadata": {},
   "source": [
    "课前回顾: \n",
    "\n",
    "- 先验是什么？\n",
    "- 为什么需要先验，先验重要吗？\n",
    "- 如何在模型中构建先验？\n",
    "\n",
    "\n",
    "![Image Name](https://cdn.kesci.com/upload/image/ril3rktwk9.png?imageView2/0/w/960/h/960)"
   ]
  },
  {
   "cell_type": "markdown",
   "metadata": {},
   "source": [
    "**不同的先验和数据(似然)会产生不同的后验分布**\n",
    "\n",
    "![Image Name](https://cdn.kesci.com/upload/image/rhqcb9gji7.png?imageView2/0/w/960/h/960)"
   ]
  },
  {
   "cell_type": "markdown",
   "metadata": {},
   "source": [
    "## Part 1: What is the denominator of Bayes' rule and what difficulty exists when we calculate the denominator ?"
   ]
  },
  {
   "cell_type": "markdown",
   "metadata": {},
   "source": [
    "1. Understand the denominator of Bayes’ rule, $p(data)$, is a number that ensures that the posterior distribution is a valid probability distribution.\n",
    "\n",
    "\n",
    "2. Understand why the calculation is complicated and practically intractable."
   ]
  },
  {
   "cell_type": "markdown",
   "metadata": {},
   "source": [
    "$ p(\\theta|data) = \\frac{p(data|\\theta)p(\\theta)}{\\pmb {p(data)}}$"
   ]
  },
  {
   "cell_type": "markdown",
   "metadata": {},
   "source": [
    "一个袋子里有四个鹅卵石，只有两种颜色：白和蓝。\n",
    "\n",
    "两种颜色的石头各有几块是未知的 (Source: Statistical rethinking)。\n",
    "\n",
    "根据已有的信息，可以判断四个石头颜色组合的可能情况有五种：\n",
    "\n",
    "![Image Name](https://cdn.kesci.com/upload/image/rhq5sehdsv.png?imageView2/0/w/360/h/360)"
   ]
  },
  {
   "cell_type": "markdown",
   "metadata": {},
   "source": [
    "\n",
    "当我们摸到一个鹅卵石，我们得知这个鹅卵石是蓝色的，现在我们需要根据摸到的这个鹅卵石的颜色来判断盒子中蓝色鹅卵石的数量。"
   ]
  },
  {
   "cell_type": "markdown",
   "metadata": {},
   "source": [
    "由于我们事先并没有得到任何有关这个袋子中鹅卵石的数量的信息，故我们假定这个盒子中蓝色鹅卵石的数量的概率是均匀分布的，且各种数量的蓝色鹅卵石出现的概率之和为1"
   ]
  },
  {
   "cell_type": "code",
   "execution_count": 1,
   "metadata": {},
   "outputs": [
    {
     "name": "stdout",
     "output_type": "stream",
     "text": [
      "袋子里的蓝色鹅卵石的数量分别为0,1,2,3,4的情况下，先验概率分别为[0.2 0.2 0.2 0.2 0.2]\n"
     ]
    },
    {
     "data": {
      "image/png": "[encoded data removed]",
      "text/plain": [
       "<Figure size 432x288 with 1 Axes>"
      ]
     },
     "metadata": {
      "needs_background": "light"
     },
     "output_type": "display_data"
    }
   ],
   "source": [
    "# numpy 是专门用于数组运算的包\n",
    "import numpy as np\n",
    "\n",
    "# 从scipy.stats里载入均匀分布的函数\n",
    "from scipy.stats import uniform\n",
    "\n",
    "# matplotlib.pyplot 是专门用于画图的包\n",
    "import matplotlib.pyplot as plt\n",
    "\n",
    "# 起点为0，终点为5(不包括5)，步长为1生成5个数\n",
    "x = np.arange(start = 0, stop = 5, step = 1)\n",
    "\n",
    "# 均匀分布的概率密度函数,x为变量，0为均匀分布起点，5为均匀分布的点的数量\n",
    "y_prior = uniform.pdf(x,loc = 0,scale = 5)\n",
    "\n",
    "# 画条形图\n",
    "plt.bar(x,y_prior,width=0.5)\n",
    "\n",
    "# 添加标题\n",
    "plt.title(\"Prior\")\n",
    "\n",
    "# 添加y轴标签\n",
    "plt.ylabel(\"probability\")\n",
    "\n",
    "print(f\"袋子里的蓝色鹅卵石的数量分别为0,1,2,3,4的情况下，先验概率分别为{y_prior}\")"
   ]
  },
  {
   "cell_type": "markdown",
   "metadata": {},
   "source": [
    "我们假定X为摸到的球的颜色\n",
    "\n",
    "$ X \\in \\left \\{ 0,1 \\right \\}  $ \n",
    "\n",
    "$ X = 0 $ 代表白色鹅卵石\n",
    "\n",
    "$ X = 1 $ 代表蓝色鹅卵石\n",
    "\n",
    "当我们摸到一个鹅卵石，这只鹅卵石是蓝色鹅卵石，那么我们该如何推断袋子中蓝色鹅卵石的总数？"
   ]
  },
  {
   "cell_type": "markdown",
   "metadata": {},
   "source": [
    "假定袋子中有$\\alpha$个蓝色鹅卵石，$\\alpha \\in \\left \\{ 0,1,2,3,4 \\right \\} $\n",
    "\n",
    "在不同$\\alpha$条件下，观察到一个蓝色鹅卵石的概率为$Pr(X=1|Y = \\alpha) = \\alpha/4$\n",
    "\n",
    "根据上节课学到的知识，我们知道这个是不同$\\alpha$条件下，我们观察到一个鹅卵石是蓝色鹅卵石的似然"
   ]
  },
  {
   "cell_type": "code",
   "execution_count": 2,
   "metadata": {},
   "outputs": [
    {
     "name": "stdout",
     "output_type": "stream",
     "text": [
      "袋子里的蓝色鹅卵石的数量分别为0,1,2,3,4的情况下,似然分别为[0.   0.25 0.5  0.75 1.  ]\n"
     ]
    },
    {
     "data": {
      "image/png": "[encoded data removed]",
      "text/plain": [
       "<Figure size 432x288 with 1 Axes>"
      ]
     },
     "metadata": {
      "needs_background": "light"
     },
     "output_type": "display_data"
    }
   ],
   "source": [
    "# numpy 是专门用于数组运算的包\n",
    "import numpy as np\n",
    "\n",
    "# matplotlib.pyplot 是专门用于画图的包\n",
    "import matplotlib.pyplot as plt\n",
    "\n",
    "# 起点为0，终点为5(不包括5)，步长为1生成5个数\n",
    "x = np.arange(start = 0, stop = 5, step = 1)\n",
    "\n",
    "# Pr(X=1|Y = \\alpha) = \\alpha/4\n",
    "y_likelihood = x/4\n",
    "# 画条形图\n",
    "plt.bar(x,y_likelihood,width=0.5)\n",
    "\n",
    "# 添加标题\n",
    "plt.title(\"Likelihood\")\n",
    "\n",
    "# 添加y轴标签\n",
    "plt.ylabel(\"likelihood\")\n",
    "\n",
    "print(f\"袋子里的蓝色鹅卵石的数量分别为0,1,2,3,4的情况下,似然分别为{y_likelihood}\")"
   ]
  },
  {
   "cell_type": "markdown",
   "metadata": {},
   "source": [
    "其中，$p(data|\\theta)p(\\theta)$ 可以表示为 $p(data,\\theta)$ \n",
    "\n",
    "$p(data,\\theta)$ 表示$\\theta$和$data$的联合概率\n",
    "\n",
    "\n"
   ]
  },
  {
   "cell_type": "markdown",
   "metadata": {},
   "source": [
    "有效的概率分布有两个特征：\n",
    "\n",
    "- 每种情况下的概率都是非负数\n",
    "\n",
    "- 所有情况下的概率之和为1"
   ]
  },
  {
   "cell_type": "markdown",
   "metadata": {},
   "source": [
    "$p(data,\\theta)$ 满足第一个特征，但不满足第二个特征\n",
    "\n",
    "要描述已知摸出鹅卵石的颜色的情况下，袋子中鹅卵石有几个蓝色鹅卵石的情况，我们需要一个值来将 $p(data,\\theta)$ 的值转化为1"
   ]
  },
  {
   "cell_type": "markdown",
   "metadata": {},
   "source": [
    "我们来回顾一下，在这个例子中，prior，likelihood分别代表什么\n",
    "\n",
    "prior代表我们对袋子里有几个蓝色鹅卵石的概率的信念\n",
    "\n",
    "likelihood代表在每一种情况下，摸出的蓝色鹅卵石的数量的概率\n",
    "\n",
    "注意，prior 和 likelihood 关注的都是袋子里的蓝色鹅卵石的情况\n",
    "\n",
    "在袋子里摸出蓝色鹅卵石的概率是多少呢？\n",
    "\n",
    "我们可以使用在袋子里摸出蓝色鹅卵石的概率作为分母。"
   ]
  },
  {
   "cell_type": "markdown",
   "metadata": {},
   "source": [
    "我们应该如何计算袋子里摸出蓝色鹅卵石的概率呢？\n",
    "\n",
    "由于我们不知道袋子里的蓝色鹅卵石的具体数量，所以我们需要计算各种情况下摸到蓝色鹅卵石的概率之和。\n",
    "\n",
    "当$\\theta$是离散参数时，$p(data)$的计算方式为\n",
    "\n",
    "$P(data) =\\sum_{\\theta}^{} p(data,\\theta)=\\sum_{\\theta}^{} p(data|\\theta)p(\\theta)$\n",
    "\n",
    "当$\\theta$是连续参数时，$p(data)$的计算方式为\n",
    "\n",
    "$P(data) =\\int_{\\theta}^{} p(data,\\theta) =\\int_{\\theta}^{} p(data|\\theta)p(\\theta)d\\theta$"
   ]
  },
  {
   "cell_type": "markdown",
   "metadata": {},
   "source": [
    "在本例中，摸到蓝色鹅卵石的概率$p(data)=1/5*0 + 1/5*1/4 + 1/5*2/4 + 1/5*3/4 + 1/5*4/4 = 1/2$"
   ]
  },
  {
   "cell_type": "code",
   "execution_count": 6,
   "metadata": {},
   "outputs": [
    {
     "name": "stdout",
     "output_type": "stream",
     "text": [
      "袋子里的蓝色鹅卵石的数量分别为0,1,2,3,4,5的情况下,后验概率分别为[0.  0.1 0.2 0.3 0.4]\n"
     ]
    },
    {
     "data": {
      "image/png": "[encoded data removed]",
      "text/plain": [
       "<Figure size 432x288 with 1 Axes>"
      ]
     },
     "metadata": {
      "needs_background": "light"
     },
     "output_type": "display_data"
    }
   ],
   "source": [
    "# numpy 是专门用于数组运算的包\n",
    "import numpy as np\n",
    "\n",
    "# matplotlib.pyplot 是专门用于画图的包\n",
    "import matplotlib.pyplot as plt\n",
    "\n",
    "# 起点为0，终点为5(不包括5)，步长为1生成5个数\n",
    "x = np.arange(start = 0, stop = 5, step = 1)\n",
    "\n",
    "# p(data) = \\sum{p(data|\\theta)p(\\theta)}\n",
    "y_margin = 1/2\n",
    "\n",
    "\n",
    "# P(\\theta|data) = \\frac{P(data|\\theta)*P(\\theta)}{P(data)} \n",
    "y_posterior = (y_prior*y_likelihood)/y_margin\n",
    "\n",
    "# 画条形图\n",
    "plt.bar(x,y_posterior,width=0.5)\n",
    "\n",
    "# 添加标题\n",
    "plt.title(\"Posterior\")\n",
    "\n",
    "# 添加y轴标签\n",
    "plt.ylabel(\"Posterior\")\n",
    "\n",
    "print(f\"袋子里的蓝色鹅卵石的数量分别为0,1,2,3,4,5的情况下,后验概率分别为{y_posterior}\")"
   ]
  },
  {
   "cell_type": "markdown",
   "metadata": {},
   "source": [
    "若我们想知道摸到白色鹅卵石的情况，则\n",
    "\n",
    "$X = 0$代表蓝色鹅卵石\n",
    "\n",
    "$X = 1$代表白色鹅卵石\n",
    "\n",
    "![Image Name](https://cdn.kesci.com/upload/image/rjhkaui467.png?imageView2/0/w/960/h/960)"
   ]
  },
  {
   "cell_type": "markdown",
   "metadata": {},
   "source": [
    "![Image Name](https://cdn.kesci.com/upload/image/rjhk3bvyl3.png?imageView2/0/w/960/h/960)"
   ]
  },
  {
   "cell_type": "markdown",
   "metadata": {},
   "source": [
    "在将$p(data)$ 作为分母的情况下，$ \\frac{p(data,\\theta)}{p(data)}$即$p(posterior)$是一个概率分布"
   ]
  },
  {
   "cell_type": "markdown",
   "metadata": {},
   "source": [
    "为什么两种情况下,p(data)之和为1 ？\n",
    "![Image Name](https://cdn.kesci.com/upload/image/rjhlkr3erw.png?imageView2/0/w/960/h/960)\n"
   ]
  },
  {
   "cell_type": "markdown",
   "metadata": {},
   "source": [
    "为什么将p(data)作为分母，$ \\frac{p(data,\\theta)}{p(data)}$即$p(posterior)$是一个概率分布\n",
    "\n",
    "![Image Name](https://cdn.kesci.com/upload/image/rjhll6g8sr.png?imageView2/0/w/960/h/960)"
   ]
  },
  {
   "cell_type": "markdown",
   "metadata": {},
   "source": [
    "### Example\n",
    "\n",
    "想象一下，我们是一名医生，想计算一个病人患某种疾病的概率。我们用$\\theta$来表示两种可能的结果。"
   ]
  },
  {
   "cell_type": "markdown",
   "metadata": {},
   "source": [
    "$\\theta$ = 0, 未患该疾病\n",
    "\n",
    "$\\theta$ = 1, 患有该疾病"
   ]
  },
  {
   "cell_type": "markdown",
   "metadata": {},
   "source": [
    "考虑到病人的病史，我们指定一个他们患病的先验概率为1/4。\n",
    "\n",
    "$p(\\theta = 1)$ = 1/4\n",
    "\n",
    "随后，我们从诊断测试中获得数据，并利用这些数据来重新评估该患者的诊断阳性的概率。为此，我们选择一个概率模型：\n",
    "\n",
    "$p(positive|\\theta) = 1/10, \\theta = 0$\n",
    "\n",
    "$p(positive|\\theta) = 4/5, \\theta = 1$"
   ]
  },
  {
   "cell_type": "markdown",
   "metadata": {},
   "source": [
    "检测结果为阳性的概率为：\n",
    "\n",
    "$p(positive) = \\sum_{\\theta=0}^{1} p(positive|\\theta) \\times p(\\theta) = p(positive|\\theta = 0) \\times p(\\theta = 0) +p(positive|\\theta = 1) \\times p(\\theta = 1)=1/10 \\times 3/4 +4/5 \\times 3/4  = 11/40$\n"
   ]
  },
  {
   "cell_type": "code",
   "execution_count": 21,
   "metadata": {},
   "outputs": [
    {
     "data": {
      "text/plain": [
       "Text(0, 0.5, 'Posterior')"
      ]
     },
     "execution_count": 21,
     "metadata": {},
     "output_type": "execute_result"
    },
    {
     "data": {
      "image/png": "[encoded data removed]",
      "text/plain": [
       "<Figure size 864x360 with 3 Axes>"
      ]
     },
     "metadata": {
      "needs_background": "light"
     },
     "output_type": "display_data"
    }
   ],
   "source": [
    "# numpy 是专门用于数组运算的包\n",
    "import numpy as np\n",
    "\n",
    "# matplotlib.pyplot 是专门用于画图的包\n",
    "import matplotlib.pyplot as plt\n",
    "\n",
    "prior = np.array([3/4,1/4])\n",
    "\n",
    "likelihood = np.array([1/10,4/5])\n",
    "\n",
    "margin = np.sum(prior*likelihood)\n",
    "\n",
    "posterior = (prior*likelihood)/margin\n",
    "\n",
    "plt.figure(figsize=(12,5))\n",
    "plt.subplot(1,3,1)\n",
    "# 画条形图\n",
    "plt.bar([0,1],prior)\n",
    "\n",
    "# 添加标题\n",
    "plt.title(\"Prior\")\n",
    "\n",
    "# 添加x轴标签\n",
    "plt.xlabel(r\"$\\theta$\")\n",
    "\n",
    "# 添加y轴标签\n",
    "plt.ylabel(\"Prior\")\n",
    "\n",
    "plt.subplot(1,3,2)\n",
    "# 画条形图\n",
    "plt.bar([0,1],likelihood)\n",
    "\n",
    "# 添加标题\n",
    "plt.title(\"likelihood\")\n",
    "\n",
    "# 添加x轴标签\n",
    "plt.xlabel(r\"$\\theta$\")\n",
    "\n",
    "# 添加y轴标签\n",
    "plt.ylabel(\"likelihood\")\n",
    "\n",
    "plt.subplot(1,3,3)\n",
    "# 画条形图\n",
    "plt.bar([0,1],posterior)\n",
    "\n",
    "# 添加标题\n",
    "plt.title(\"Posterior\")\n",
    "\n",
    "# 添加x轴标签\n",
    "plt.xlabel(r\"$\\theta$\")\n",
    "\n",
    "# 添加y轴标签\n",
    "plt.ylabel(\"Posterior\")\n"
   ]
  },
  {
   "cell_type": "markdown",
   "metadata": {},
   "source": [
    "![Image Name](https://cdn.kesci.com/upload/image/rjhs1vfk1s.png?imageView2/0/w/960/h/960)"
   ]
  },
  {
   "cell_type": "markdown",
   "metadata": {},
   "source": [
    "### The Difficulty with the Denominator"
   ]
  },
  {
   "cell_type": "markdown",
   "metadata": {},
   "source": [
    "我们上面的例子仅涉及到一个参数的情况，因此对$p(data)$的计算较为容易，即：\n",
    "\n",
    "当$\\theta$是离散参数时，$p(data)$的计算方式为\n",
    "\n",
    "$P(data) =\\sum_{\\theta}^{} p(data,\\theta)=\\sum_{\\theta}^{} p(data|\\theta)p(\\theta)$\n",
    "\n",
    "当$\\theta$是连续参数时，$p(data)$的计算方式为\n",
    "\n",
    "$P(data) =\\int_{\\theta}^{} p(data,\\theta) =\\int_{\\theta}^{} p(data|\\theta)p(\\theta)d\\theta$"
   ]
  },
  {
   "cell_type": "markdown",
   "metadata": {},
   "source": [
    "若涉及到2个参数的情况，则：\n",
    "\n",
    "当$\\theta_1$,$\\theta_2$是离散参数时，$p(data)$的计算方式为\n",
    "\n",
    "$P(data) =\\sum_{\\theta_2}^{}\\sum_{\\theta_1}^{} p(data,\\theta_1,\\theta_2)= \\sum_{\\theta_2}^{}\\sum_{\\theta_1}^{} p(data|\\theta_1,\\theta_2)p(\\theta_1,\\theta_2) $\n",
    "\n",
    "当$\\theta_1$,$\\theta_2$是连续参数时，$p(data)$的计算方式为\n",
    "\n",
    "$P(data) =\\int_{\\theta_2}^{} \\int_{\\theta_1}^{} p(data,\\theta_1,\\theta_2) d\\theta_1 d\\theta_2 = \\int_{\\theta_2}^{} \\int_{\\theta_1}^{} p(data|\\theta_1,\\theta_2)p(\\theta_1,\\theta_2)d\\theta_1d\\theta_2 $ "
   ]
  },
  {
   "cell_type": "markdown",
   "metadata": {},
   "source": [
    "若涉及到100个参数的情况，则：\n",
    "\n",
    "当$\\theta_1$,$\\theta_2$...$\\theta_100$是离散参数时，$p(data)$的计算方式为\n",
    "\n",
    "$P(data) =\\sum_{\\theta_{100}}^{}...\\sum_{\\theta_2}^{}\\sum_{\\theta_1}^{} p(data,\\theta_1,\\theta_2,...,\\theta_{100})= \\sum_{\\theta_{100}}^{}...\\sum_{\\theta_2}^{}\\sum_{\\theta_1}^{} p(data|\\theta_1,\\theta_2,...,\\theta_{100})p(\\theta_1,\\theta_2,...,\\theta_{100}) $\n",
    "\n",
    "当$\\theta_1$,$\\theta_2$是连续参数时，$p(data)$的计算方式为\n",
    "\n",
    "$P(data) =\\int_{\\theta_{100}}^{}...\\int_{\\theta_2}^{} \\int_{\\theta_1}^{} p(data,\\theta_1,\\theta_2,...,\\theta_{100}) d\\theta_1 d\\theta_2...d\\theta_{100} = \\int_{\\theta_{100}}^{}...\\int_{\\theta_2}^{} \\int_{\\theta_1}^{} p(data|\\theta_1,\\theta_2,...,\\theta_{100})p(\\theta_1,\\theta_2,...,\\theta_{100})d\\theta_1d\\theta_2...d\\theta_{100} $ "
   ]
  },
  {
   "cell_type": "markdown",
   "metadata": {},
   "source": [
    "计算高维积分往往是困难的\n",
    "\n",
    "连续型随机变量一般是积分没有闭形式（colsed-form）解导致的计算不可行\n",
    "\n",
    "对于离散型随机变量一般是指数级求和（当参数是K维向量, 且每一维有S种可能取值, 那么计算复杂度就是$O(S_{K})$ ，是计算不可行的"
   ]
  },
  {
   "cell_type": "markdown",
   "metadata": {},
   "source": [
    "在$\\theta$是离散参数的情况下，我们可以通过大量的计算来求出$p(data)$的值\n",
    "\n",
    "但在$\\theta$是连续参数的情况下，我们很难求出$p(data)$的积分"
   ]
  },
  {
   "cell_type": "markdown",
   "metadata": {},
   "source": [
    "### How to Dispense with the Difficulty: Bayesian Computation"
   ]
  },
  {
   "cell_type": "markdown",
   "metadata": {},
   "source": [
    "- 针对具体的总体分布为参数选择合适的先验分布，这类方法的典型是共轭先验（conjugate prior）\n",
    "\n",
    "- 另一类是使用近似算法，例如：证据近似（Evidence Approximation）、变分推理（Variational Inference）、吉布斯抽样（Gibbs Sampling）等。"
   ]
  },
  {
   "cell_type": "markdown",
   "metadata": {},
   "source": [
    "对于某些似然函数（likehood），如果您选择某个先验，后验的分布与先验的分布相同。这样的先验被称为共轭先验。"
   ]
  },
  {
   "cell_type": "markdown",
   "metadata": {},
   "source": [
    "我们以抛硬币为例\n",
    "\n",
    "其中：\n",
    "\n",
    "θ是成功的概率，\n",
    "\n",
    "x是成功次数。\n",
    "\n",
    "n是试验的总数\n",
    "\n",
    "因此nx是成功的次数"
   ]
  },
  {
   "cell_type": "markdown",
   "metadata": {},
   "source": [
    "![Image Name](https://pic2.zhimg.com/80/v2-ef326ec40eddffdfc798807539fdd699_720w.webp)\n"
   ]
  },
  {
   "cell_type": "markdown",
   "metadata": {},
   "source": [
    "![Image Name](https://pic4.zhimg.com/80/v2-d2540064a6dcaa131e537d93456b587b_720w.webp)\n"
   ]
  },
  {
   "cell_type": "markdown",
   "metadata": {},
   "source": [
    "这样我们无需进行计算就可以解析地求出后验分布。"
   ]
  }
 ],
 "metadata": {
  "kernelspec": {
   "display_name": "Python 3.9.13 64-bit (microsoft store)",
   "language": "python",
   "name": "python3"
  },
  "language_info": {
   "codemirror_mode": {
    "name": "ipython",
    "version": 3
   },
   "file_extension": ".py",
   "mimetype": "text/x-python",
   "name": "python",
   "nbconvert_exporter": "python",
   "pygments_lexer": "ipython3",
   "version": "3.9.13"
  },
  "orig_nbformat": 4,
  "vscode": {
   "interpreter": {
    "hash": "7698be9997df07547d4a08fe6d7a8ab77df170c0c470ab0ace6a1c514673cd42"
   }
  }
 },
 "nbformat": 4,
 "nbformat_minor": 2
}
