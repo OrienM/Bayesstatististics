{
 "cells": [
  {
   "cell_type": "markdown",
   "id": "73da2bcd",
   "metadata": {},
   "source": [
    "# 示例1：个体疾病状况"
   ]
  },
  {
   "cell_type": "markdown",
   "id": "2674719c",
   "metadata": {},
   "source": [
    "假设你现在是医院医生，要估计某种疾病的患病率。我们从一个样本开始，我们没有先验信息。让这个人（样本）的疾病状态用$X$来表示 "
   ]
  },
  {
   "cell_type": "markdown",
   "id": "b55448bf",
   "metadata": {},
   "source": [
    "$ X=\n",
    "\\begin{cases}\n",
    "0, & \\text{没生病}\\\\\n",
    "1, & \\text{生病了}\n",
    "\\end{cases}\n",
    "$\n"
   ]
  },
  {
   "cell_type": "markdown",
   "id": "0560f1b9",
   "metadata": {},
   "source": [
    "$\\theta$代表一个随机选择的个体患有这种疾病的概率。我们现在计算一个样本每一个可能结果的概率"
   ]
  },
  {
   "cell_type": "markdown",
   "id": "cd98061f",
   "metadata": {},
   "source": [
    "$P(X=0|\\theta)=(1-\\theta)$"
   ]
  },
  {
   "cell_type": "markdown",
   "id": "8d609b3e",
   "metadata": {},
   "source": [
    "$P(X=1|\\theta)=(\\theta)$"
   ]
  },
  {
   "cell_type": "markdown",
   "id": "1b3916f0",
   "metadata": {},
   "source": [
    "我们可以根据上面的公式，基于1或是0（生病还是没生病）写下一个表达式："
   ]
  },
  {
   "cell_type": "markdown",
   "id": "68e42e59",
   "metadata": {},
   "source": [
    "$\n",
    "P(X=a|\\theta)=\\theta^a(1-\\theta)^{1-a} \\qquad where \\quad a\\in \\left\\{0， 1\\right\\}\n",
    "$"
   ]
  },
  {
   "cell_type": "markdown",
   "id": "c22e1aa5",
   "metadata": {},
   "source": [
    "我们可以使用python代码来实现上面的例子。首先先加载numpy库。\n",
    "\n",
    "之后我们定义一个函数，n就是样本量，在我们例子中为1；a是我们样本生病还是没生病的情况；最后是\\theta$，我们随机选中一个个体生病的概率。"
   ]
  },
  {
   "cell_type": "code",
   "execution_count": 1,
   "id": "860a79ca-c6f4-4c94-b770-ecfc3f604afb",
   "metadata": {},
   "outputs": [],
   "source": [
    "import numpy as np"
   ]
  },
  {
   "cell_type": "code",
   "execution_count": 2,
   "id": "1323a606-3d90-4d32-8a16-ec2c09bb6fd8",
   "metadata": {},
   "outputs": [],
   "source": [
    "def likelihood(n,a, theta):##def开始定义函数，紧接着是函数名，括号内部为函数的参数\n",
    "    like_fun = (theta**a*(1-theta)**(n-a))\n",
    "    return like_fun"
   ]
  },
  {
   "cell_type": "markdown",
   "id": "782276a9",
   "metadata": {},
   "source": [
    "如果得这种病的概率是0.5，我们可以计算一下假设这里我们一个样本生病了的概率"
   ]
  },
  {
   "cell_type": "code",
   "execution_count": 3,
   "id": "874b2769-6bf7-48f6-8cc3-c224aae43117",
   "metadata": {},
   "outputs": [
    {
     "data": {
      "text/plain": [
       "0.5"
      ]
     },
     "execution_count": 3,
     "metadata": {},
     "output_type": "execute_result"
    }
   ],
   "source": [
    "likelihood(1, 1, 0.5)"
   ]
  },
  {
   "cell_type": "markdown",
   "id": "5b4d1ee1",
   "metadata": {},
   "source": [
    "我们也可以使用不同的$\\theta$"
   ]
  },
  {
   "cell_type": "code",
   "execution_count": 4,
   "id": "4f642e8a-7787-48f5-8e7b-f834c2a9f65b",
   "metadata": {},
   "outputs": [],
   "source": [
    "theta1 = np.arange(0, 1.2, 0.2)# 使用numpy生成一个数组，0为开始，1.2为结束（不包括1.2），0.2为步长生成6个theta"
   ]
  },
  {
   "cell_type": "code",
   "execution_count": 5,
   "id": "4c5a19c3-f6d7-411c-aa08-ee144459c0fb",
   "metadata": {},
   "outputs": [
    {
     "data": {
      "text/plain": [
       "array([0. , 0.2, 0.4, 0.6, 0.8, 1. ])"
      ]
     },
     "execution_count": 5,
     "metadata": {},
     "output_type": "execute_result"
    }
   ],
   "source": [
    "theta1"
   ]
  },
  {
   "cell_type": "code",
   "execution_count": 6,
   "id": "f0ab9e96-5728-4994-a440-e25abbf459e3",
   "metadata": {},
   "outputs": [
    {
     "data": {
      "text/plain": [
       "array([0. , 0.2, 0.4, 0.6, 0.8, 1. ])"
      ]
     },
     "execution_count": 6,
     "metadata": {},
     "output_type": "execute_result"
    }
   ],
   "source": [
    "likelihood(1, 1, theta1)"
   ]
  },
  {
   "cell_type": "code",
   "execution_count": 7,
   "id": "3cada7dd-07d6-4fb2-a39a-da92700ed11a",
   "metadata": {},
   "outputs": [
    {
     "data": {
      "text/plain": [
       "array([1. , 0.8, 0.6, 0.4, 0.2, 0. ])"
      ]
     },
     "execution_count": 7,
     "metadata": {},
     "output_type": "execute_result"
    }
   ],
   "source": [
    "likelihood(1, 0, theta1)"
   ]
  },
  {
   "cell_type": "code",
   "execution_count": 8,
   "id": "aff1f548-d2ca-423b-bc6c-52dc0c50a2df",
   "metadata": {},
   "outputs": [],
   "source": [
    "import matplotlib.pyplot as plt"
   ]
  },
  {
   "cell_type": "code",
   "execution_count": 9,
   "id": "93e1f76b",
   "metadata": {},
   "outputs": [
    {
     "data": {
      "text/plain": [
       "<matplotlib.collections.LineCollection at 0x7fa715a92100>"
      ]
     },
     "execution_count": 9,
     "metadata": {},
     "output_type": "execute_result"
    },
    {
     "data": {
      "image/png": "[encoded data removed]",
      "text/plain": [
       "<Figure size 360x194.4 with 1 Axes>"
      ]
     },
     "metadata": {
      "needs_background": "light"
     },
     "output_type": "display_data"
    }
   ],
   "source": [
    "fig, ax = plt.subplots(figsize=(5, 2.7), layout='constrained')\n",
    "plt.scatter(x=theta1, y = likelihood(1, 1, theta1), c = \"red\")######生病\n",
    "plt.scatter(x=theta1, y = likelihood(1, 0, theta1), c = \"blue\")####不生病\n",
    "plt.plot(theta1, likelihood(1, 1, theta1),c = \"red\")######生病\n",
    "plt.plot(theta1, likelihood(1, 0, theta1),c = \"blue\")####不生病\n",
    "plt.vlines(theta1,0,1, linestyles=\"dashed\", color = \"grey\")####增加垂直线，注意，在同一个theta下，生病和不生病的概率相加始终为1"
   ]
  },
  {
   "cell_type": "markdown",
   "id": "06128f8d",
   "metadata": {},
   "source": [
    "# 示例2:一组被试的智力测试分数"
   ]
  },
  {
   "cell_type": "markdown",
   "id": "abe6baec",
   "metadata": {},
   "source": [
    "假设我们对一组被试进行智力测试，测试分数的范围是0-200。假设我们没有关于个体特征的信息来帮助预测，同时一个人的智力测试分数可能会有多个因素影响，我们假设一个人的分数是所有这些因素的平均值，那么中心极限定理可能适用，我们可以使用正态分布来模拟测试分数X："
   ]
  },
  {
   "cell_type": "markdown",
   "id": "241bb232",
   "metadata": {},
   "source": [
    "$p(X=a|\\mu, \\sigma)=\\frac{1}{\\sqrt{2\\pi\\sigma^2}}e^{-\\frac{(a-\\mu)^2}{2\\sigma^2}}$"
   ]
  },
  {
   "cell_type": "markdown",
   "id": "9468e519",
   "metadata": {},
   "source": [
    "现在考虑一个由N个个体组成的样本。如果我们假设一个人的考试成绩无助于预测另一个人的成绩，那么我们的数据就是独立的。如果我们还假设所有的个体都来自同一个群体，我们就有一个随机样本。然后，我们可以通过取个体概率密度的乘积来计算N个个体样本的联合概率密度："
   ]
  },
  {
   "cell_type": "markdown",
   "id": "52c2392a",
   "metadata": {},
   "source": [
    "$p(X_1=a_1, X_2=a_2, ..., X_N=a_N|\\mu, \\sigma)=\\prod\\limits_{i=1}^N\\frac{1}{\\sqrt{2\\pi\\sigma^2}}e^{-\\frac{(a-\\mu)^2}{2\\sigma^2}}$"
   ]
  },
  {
   "cell_type": "code",
   "execution_count": 10,
   "id": "10802dc8",
   "metadata": {},
   "outputs": [],
   "source": [
    "\n",
    "def pdf(a, mu, sigma):\n",
    "    fx = np.exp(-(a-mu)**2/(2*sigma**2))*1/np.sqrt(2*np.pi*sigma**2)\n",
    "    return fx"
   ]
  },
  {
   "cell_type": "code",
   "execution_count": 11,
   "id": "e569797e",
   "metadata": {},
   "outputs": [],
   "source": [
    "a_n = np.arange(60, 180, 20)"
   ]
  },
  {
   "cell_type": "code",
   "execution_count": 12,
   "id": "2decce49",
   "metadata": {},
   "outputs": [
    {
     "data": {
      "text/plain": [
       "array([ 60,  80, 100, 120, 140, 160])"
      ]
     },
     "execution_count": 12,
     "metadata": {},
     "output_type": "execute_result"
    }
   ],
   "source": [
    "a_n"
   ]
  },
  {
   "cell_type": "code",
   "execution_count": 13,
   "id": "efbfdac5",
   "metadata": {},
   "outputs": [
    {
     "data": {
      "text/plain": [
       "array([0.00391043, 0.00398942, 0.00391043, 0.0036827 , 0.00333225,\n",
       "       0.00289692])"
      ]
     },
     "execution_count": 13,
     "metadata": {},
     "output_type": "execute_result"
    }
   ],
   "source": [
    "pdf(a_n, 80, 100)##在pdf函数中，mu是总体均值，100是总体标准差，a是个体的智力测验分数"
   ]
  },
  {
   "cell_type": "code",
   "execution_count": 14,
   "id": "fa2a269d",
   "metadata": {},
   "outputs": [],
   "source": [
    "a_pdf = pdf(a_n, 80, 100)"
   ]
  },
  {
   "cell_type": "code",
   "execution_count": 15,
   "id": "4014cdb9",
   "metadata": {},
   "outputs": [
    {
     "data": {
      "text/plain": [
       "2.1686916940290963e-15"
      ]
     },
     "execution_count": 15,
     "metadata": {},
     "output_type": "execute_result"
    }
   ],
   "source": [
    "np.prod(a_pdf)###np.prod是连乘函数"
   ]
  },
  {
   "cell_type": "code",
   "execution_count": null,
   "id": "f6a4809d",
   "metadata": {},
   "outputs": [],
   "source": []
  }
 ],
 "metadata": {
  "kernelspec": {
   "display_name": "Python 3.9.13 64-bit (microsoft store)",
   "language": "python",
   "name": "python3"
  },
  "language_info": {
   "codemirror_mode": {
    "name": "ipython",
    "version": 3
   },
   "file_extension": ".py",
   "mimetype": "text/x-python",
   "name": "python",
   "nbconvert_exporter": "python",
   "pygments_lexer": "ipython3",
   "version": "3.9.13"
  },
  "vscode": {
   "interpreter": {
    "hash": "7698be9997df07547d4a08fe6d7a8ab77df170c0c470ab0ace6a1c514673cd42"
   }
  }
 },
 "nbformat": 4,
 "nbformat_minor": 5
}
