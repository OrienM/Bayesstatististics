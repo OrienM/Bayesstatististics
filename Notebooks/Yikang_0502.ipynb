{
 "cells": [
  {
   "cell_type": "markdown",
   "metadata": {
    "id": "9DCBD63B66F44A62A9C110EAA9FBAC7E",
    "jupyter": {},
    "slideshow": {
     "slide_type": "slide"
    },
    "tags": [],
    "trusted": true
   },
   "source": [
    "# Lecture 4: Likelihood and Maximum Likelihood Estimate\n",
    "\n",
    "## Instructor： 胡传鹏（博士）[Dr. Hu Chuan-Peng]\n",
    "\n",
    "### 南京师范大学心理学院[School of Psychology, Nanjing Normal University]\n",
    " \n"
   ]
  },
  {
   "cell_type": "markdown",
   "metadata": {
    "id": "D9736273AFF7477392E4FBE1FC7A0A86",
    "jupyter": {},
    "slideshow": {
     "slide_type": "slide"
    },
    "tags": [],
    "trusted": true
   },
   "source": [
    "## Part 2: How to combine likelihood and prior to form a posterior"
   ]
  },
  {
   "cell_type": "markdown",
   "metadata": {},
   "source": [
    "接下来我们将介绍贝叶斯公式背后的机制，尤其是先验的改变会如何影响到后验分布"
   ]
  },
  {
   "cell_type": "markdown",
   "metadata": {},
   "source": [
    "下面的例子提供了一种关于贝叶斯规则的直觉理解"
   ]
  },
  {
   "cell_type": "markdown",
   "metadata": {},
   "source": [
    "一个袋子里有四个鹅卵石，只有两种颜色：白和蓝。\n",
    "\n",
    "两种颜色的石头各有几块是未知的 (Source: Statistical rethinking)。\n",
    "\n",
    "根据已有的信息，可以判断四个石头颜色组合的可能情况有五种：\n",
    "\n",
    "![Image Name](https://cdn.kesci.com/upload/image/rhq5sehdsv.png?imageView2/0/w/360/h/360)"
   ]
  },
  {
   "cell_type": "markdown",
   "metadata": {},
   "source": [
    "\n",
    "当我们摸到一个鹅卵石，我们得知这个鹅卵石是蓝色的，现在我们需要根据摸到的这个鹅卵石的颜色来判断盒子中蓝色鹅卵石的数量。\n",
    "\n"
   ]
  },
  {
   "cell_type": "markdown",
   "metadata": {},
   "source": [
    "由于我们事先并没有得到任何有关这个袋子中鹅卵石的数量的信息，故我们假定这个盒子中蓝色鹅卵石的数量的概率是均匀分布的，且各种数量的蓝色鹅卵石出现的概率之和为1"
   ]
  },
  {
   "cell_type": "code",
   "execution_count": 4,
   "metadata": {},
   "outputs": [
    {
     "name": "stdout",
     "output_type": "stream",
     "text": [
      "袋子里的蓝色鹅卵石的数量分别为0,1,2,3,4的情况下，先验概率分别为[0.2 0.2 0.2 0.2 0.2]\n"
     ]
    },
    {
     "data": {
      "image/png": "[encoded data removed]",
      "text/plain": [
       "<Figure size 432x288 with 1 Axes>"
      ]
     },
     "metadata": {
      "needs_background": "light"
     },
     "output_type": "display_data"
    }
   ],
   "source": [
    "# numpy 是专门用于数组运算的包\n",
    "import numpy as np\n",
    "\n",
    "# 从scipy.stats里载入均匀分布的函数\n",
    "from scipy.stats import uniform\n",
    "\n",
    "# matplotlib.pyplot 是专门用于画图的包\n",
    "import matplotlib.pyplot as plt\n",
    "\n",
    "# 起点为0，终点为5(不包括5)，步长为1生成5个数\n",
    "x = np.arange(start = 0, stop = 5, step = 1)\n",
    "\n",
    "# 均匀分布的概率密度函数,x为变量，0为均匀分布起点，5为均匀分布的点的数量\n",
    "y_prior = uniform.pdf(x,loc = 0,scale = 5)\n",
    "\n",
    "# 画条形图\n",
    "plt.bar(x,y_prior,width=0.5)\n",
    "\n",
    "# 添加标题\n",
    "plt.title(\"Prior\")\n",
    "\n",
    "# 添加y轴标签\n",
    "plt.ylabel(\"probability\")\n",
    "\n",
    "print(f\"袋子里的蓝色鹅卵石的数量分别为0,1,2,3,4的情况下，先验概率分别为{y_prior}\")"
   ]
  },
  {
   "cell_type": "markdown",
   "metadata": {},
   "source": [
    "我们假定X为摸到的球的颜色\n",
    "\n",
    "$ X \\in \\left \\{ 0,1 \\right \\}  $ \n",
    "\n",
    "$ X = 0 $ 代表白色鹅卵石\n",
    "\n",
    "$ X = 1 $ 代表蓝色鹅卵石\n",
    "\n",
    "当我们摸到一个鹅卵石，这只鹅卵石是蓝色鹅卵石，那么我们该如何推断袋子中蓝色鹅卵石的总数？"
   ]
  },
  {
   "cell_type": "markdown",
   "metadata": {},
   "source": [
    "假定袋子中有$\\alpha$个蓝色鹅卵石，$\\alpha \\in \\left \\{ 0,1,2,3,4 \\right \\} $\n",
    "\n",
    "在不同$\\alpha$条件下，观察到一个蓝色鹅卵石的概率为$Pr(X=1|Y = \\alpha) = \\alpha/4$\n",
    "\n",
    "根据上节课学到的知识，我们知道这个是不同$\\alpha$条件下，我们观察到一个鹅卵石是蓝色鹅卵石的似然"
   ]
  },
  {
   "cell_type": "code",
   "execution_count": 5,
   "metadata": {},
   "outputs": [
    {
     "name": "stdout",
     "output_type": "stream",
     "text": [
      "袋子里的蓝色鹅卵石的数量分别为0,1,2,3,4的情况下,似然分别为[0.   0.25 0.5  0.75 1.  ]\n"
     ]
    },
    {
     "data": {
      "image/png": "[encoded data removed]",
      "text/plain": [
       "<Figure size 432x288 with 1 Axes>"
      ]
     },
     "metadata": {
      "needs_background": "light"
     },
     "output_type": "display_data"
    }
   ],
   "source": [
    "# numpy 是专门用于数组运算的包\n",
    "import numpy as np\n",
    "\n",
    "# matplotlib.pyplot 是专门用于画图的包\n",
    "import matplotlib.pyplot as plt\n",
    "\n",
    "# 起点为0，终点为5(不包括5)，步长为1生成5个数\n",
    "x = np.arange(start = 0, stop = 5, step = 1)\n",
    "\n",
    "# Pr(X=1|Y = \\alpha) = \\alpha/4\n",
    "y_likelihood = x/4\n",
    "# 画条形图\n",
    "plt.bar(x,y_likelihood,width=0.5)\n",
    "\n",
    "# 添加标题\n",
    "plt.title(\"Likelihood\")\n",
    "\n",
    "# 添加y轴标签\n",
    "plt.ylabel(\"likelihood\")\n",
    "\n",
    "print(f\"袋子里的蓝色鹅卵石的数量分别为0,1,2,3,4的情况下,似然分别为{y_likelihood}\")"
   ]
  },
  {
   "cell_type": "markdown",
   "metadata": {},
   "source": [
    "Bayes' rule\n",
    "\n",
    "\n",
    "$ P(\\theta|data) = \\frac{P(data|\\theta)*P(\\theta)}{P(data)} \\propto P(data|\\theta)*P(\\theta) $ "
   ]
  },
  {
   "cell_type": "markdown",
   "metadata": {},
   "source": [
    "根据贝叶斯定理，我们在给定当前观察到的现象的情况下，对参数的概率的信念会随着参数的先验概率和给定参数下的似然而发生信念的更新"
   ]
  },
  {
   "cell_type": "code",
   "execution_count": 6,
   "metadata": {},
   "outputs": [
    {
     "name": "stdout",
     "output_type": "stream",
     "text": [
      "盒子里的球的数量分别为0,1,2,3,4,5的情况下,后验概率分别为[0.  0.1 0.2 0.3 0.4]\n"
     ]
    },
    {
     "data": {
      "image/png": "[encoded data removed]",
      "text/plain": [
       "<Figure size 432x288 with 1 Axes>"
      ]
     },
     "metadata": {
      "needs_background": "light"
     },
     "output_type": "display_data"
    }
   ],
   "source": [
    "# numpy 是专门用于数组运算的包\n",
    "import numpy as np\n",
    "\n",
    "# matplotlib.pyplot 是专门用于画图的包\n",
    "import matplotlib.pyplot as plt\n",
    "\n",
    "# 起点为0，终点为5(不包括5)，步长为1生成5个数\n",
    "x = np.arange(start = 0, stop = 5, step = 1)\n",
    "\n",
    "# p(data) = \\sum{p(data|\\theta)p(\\theta)}\n",
    "y_margin = np.sum(y_prior*y_likelihood)\n",
    "\n",
    "\n",
    "# P(\\theta|data) = \\frac{P(data|\\theta)*P(\\theta)}{P(data)} \n",
    "y_posterior = (y_prior*y_likelihood)/y_margin\n",
    "\n",
    "# 画条形图\n",
    "plt.bar(x,y_posterior,width=0.5)\n",
    "\n",
    "# 添加标题\n",
    "plt.title(\"Posterior\")\n",
    "\n",
    "# 添加y轴标签\n",
    "plt.ylabel(\"Posterior\")\n",
    "\n",
    "print(f\"袋子里的蓝色鹅卵石的数量分别为0,1,2,3,4,5的情况下,后验概率分别为{y_posterior}\")\n"
   ]
  },
  {
   "cell_type": "code",
   "execution_count": 7,
   "metadata": {},
   "outputs": [
    {
     "name": "stdout",
     "output_type": "stream",
     "text": [
      "袋子中蓝色鹅卵石分别为0的情况下,后验概率分别为0.0\n"
     ]
    }
   ],
   "source": [
    "# numpy 是专门用于数组运算的包\n",
    "import numpy as np\n",
    "\n",
    "# matplotlib.pyplot 是专门用于画图的包\n",
    "import matplotlib.pyplot as plt\n",
    "\n",
    "# 从scipy.stats里载入均匀分布的函数\n",
    "from scipy.stats import uniform\n",
    "\n",
    "\n",
    "# 起点为0，终点为5(不包括5)，步长为1生成5个数\n",
    "x = np.arange(start = 0, stop = 5, step = 1)\n",
    "\n",
    "# 均匀分布的概率密度函数,x为变量，0为均匀分布起点，5为均匀分布的点的数量\n",
    "y_prior = uniform.pdf(x,loc = 0,scale = 5)\n",
    "\n",
    "# Pr(X=1|Y = \\alpha) = \\alpha/4\n",
    "y_likelihood = x/4\n",
    "\n",
    "# p(data) = \\sum{p(data|\\theta)p(\\theta)}\n",
    "margin = np.sum(y_prior*y_likelihood)\n",
    "\n",
    "# 袋中蓝色鹅卵石的数量为0\n",
    "nx = 0\n",
    "\n",
    "# 袋中蓝色鹅卵石的数量为0时的先验概率\n",
    "prior = y_prior[nx]\n",
    "\n",
    "# 袋中蓝色鹅卵石的数量为0时的似然\n",
    "likelihood = y_likelihood[nx]\n",
    "\n",
    "# 袋中蓝色鹅卵石数量为0时的后验概率\n",
    "posterior = (prior*likelihood)/margin\n",
    "\n",
    "\n",
    "print(f\"袋子中蓝色鹅卵石分别为{nx}的情况下,后验概率分别为{posterior}\")"
   ]
  },
  {
   "cell_type": "code",
   "execution_count": 15,
   "metadata": {},
   "outputs": [
    {
     "name": "stdout",
     "output_type": "stream",
     "text": [
      "盒子里的球的数量分别为5的情况下,后验概率分别为0.3333333333333333\n"
     ]
    }
   ],
   "source": [
    "######################################################\n",
    "#\n",
    "# 练习阶段\n",
    "#\n",
    "# Tips:思考如何表征袋子中不同蓝色鹅卵石的数量\n",
    "#\n",
    "# 目的：求出蓝色鹅卵石数量分别为[0,1,2,3,4]的情况下的后验概率\n",
    "#\n",
    "######################################################\n",
    "\n",
    "\n",
    "\n",
    "# numpy 是专门用于数组运算的包\n",
    "from tkinter import N\n",
    "import numpy as np\n",
    "\n",
    "# matplotlib.pyplot 是专门用于画图的包\n",
    "import matplotlib.pyplot as plt\n",
    "\n",
    "# 从scipy.stats里载入均匀分布的函数\n",
    "from scipy.stats import uniform\n",
    "\n",
    "\n",
    "# 起点为0，终点为5(不包括5)，步长为1生成5个数\n",
    "x = np.arange(start = 0, stop = 5, step = 1)\n",
    "\n",
    "# 均匀分布的概率密度函数,x为变量，0为均匀分布起点，5为均匀分布的点的数量\n",
    "y_prior = uniform.pdf(x,loc = 0,scale = 5)\n",
    "\n",
    "# Pr(X=1|Y = \\alpha) = \\alpha/4\n",
    "y_likelihood = x/4\n",
    "\n",
    "# p(data) = \\sum{p(data|\\theta)p(\\theta)}\n",
    "margin = np.sum(y_prior*y_likelihood)\n",
    "\n",
    "# 袋中蓝色鹅卵石的数量为&&&\n",
    "nx = &&&\n",
    "\n",
    "# 袋中蓝色鹅卵石的数量为0时的先验概率\n",
    "prior = y_prior[nx]\n",
    "\n",
    "# 袋中蓝色鹅卵石的数量为0时的似然\n",
    "likelihood = y_likelihood[nx]\n",
    "\n",
    "# 袋中蓝色鹅卵石数量为0时的后验概率\n",
    "posterior = (prior*likelihood)/margin\n",
    "\n",
    "\n",
    "print(f\"袋子里的蓝色鹅卵石的数量分别为{nx}的情况下,后验概率分别为{posterior}\")\n"
   ]
  },
  {
   "cell_type": "markdown",
   "metadata": {},
   "source": [
    "当先验发生改变时，会发生什么变化呢？\n",
    "\n",
    "若我们提前知道袋子里两种颜色的鹅卵石的数量很接近，那么先验该怎么改变呢？"
   ]
  },
  {
   "cell_type": "markdown",
   "metadata": {},
   "source": [
    "袋子里更有可能会有两个蓝色或白色的鹅卵石，而0个或4个蓝色或白色的鹅卵石的概率最低，于是形成了新的先验。\n",
    "\n",
    "袋子中蓝色鹅卵石的数量分别为0，1，2，3，4，的情况下，先验概率分别为[1/12, 1/6, 1/2, 1/6, 1/12]\n",
    "\n",
    "\n"
   ]
  },
  {
   "cell_type": "code",
   "execution_count": 12,
   "metadata": {},
   "outputs": [
    {
     "name": "stdout",
     "output_type": "stream",
     "text": [
      "袋子里的蓝色鹅卵石的数量分别为4的情况下,后验概率分别为0.16666666666666666\n"
     ]
    }
   ],
   "source": [
    "######################################################\n",
    "# 练习阶段\n",
    "#\n",
    "# Tips1: 改变哪个变量可以为先验概率赋值 \n",
    "# Tips2: 改变哪个变量可以表示盒子中不同蓝色鹅卵石的数量\n",
    "#\n",
    "# 目的1：先验概率如何表征\n",
    "# 目的2：求出蓝色鹅卵石数量分别为[0,1,2,3,4]的后验概率\n",
    "######################################################\n",
    "# numpy 是专门用于数组运算的包\n",
    "import numpy as np\n",
    "\n",
    "# matplotlib.pyplot 是专门用于画图的包\n",
    "import matplotlib.pyplot as plt\n",
    "\n",
    "# 从scipy.stats里载入均匀分布的函数\n",
    "from scipy.stats import uniform\n",
    "\n",
    "\n",
    "# 起点为0，终点为5(不包括5)，步长为1生成5个数\n",
    "x = np.arange(start = 0, stop = 5, step = 1)\n",
    "\n",
    "# 盒子里的球的数量分别为0，1，2，3，4的情况下，先验概率分别为[1/12, 1/6, 1/2, 1/6, 1/12]\n",
    "y_prior = &&&\n",
    "\n",
    "# Pr(X=1|Y = \\alpha) = \\alpha/4\n",
    "y_likelihood = x/4\n",
    "\n",
    "# p(data) = \\sum{p(data|\\theta)p(\\theta)}\n",
    "margin = np.sum(y_prior*y_likelihood)\n",
    "\n",
    "# 袋中蓝色鹅卵石的数量为&&&\n",
    "nx = &&&\n",
    "\n",
    "# 袋中蓝色鹅卵石的数量为0时的先验概率\n",
    "prior = y_prior[nx]\n",
    "\n",
    "# 袋中蓝色鹅卵石的数量为0时的似然\n",
    "likelihood = y_likelihood[nx]\n",
    "\n",
    "# 袋中蓝色鹅卵石数量为0时的后验概率\n",
    "posterior = (prior*likelihood)/margin\n",
    "\n",
    "\n",
    "print(f\"袋子里的蓝色鹅卵石的数量分别为{nx}的情况下,后验概率分别为{posterior}\")"
   ]
  },
  {
   "cell_type": "markdown",
   "metadata": {},
   "source": [
    "### 应用\n",
    "\n",
    "假定我们旋转地球仪，手指落在陆地上的概率为为$\\theta$,我们旋转10次中发现有3次手指指向为陆地；\n",
    "\n",
    "手指指向陆地的次数为Z；\n",
    "\n",
    "在这种情况下，我们的似然为\n",
    " $\\operatorname{Pr}(Z = 3\\mid \\theta) = \\binom{10}{3} \\theta^{3}(1-\\theta)^{10-3}$"
   ]
  },
  {
   "cell_type": "markdown",
   "metadata": {},
   "source": [
    "在旋转地球仪之前，我们认为手指指在陆地上的概率是均匀分布的。"
   ]
  },
  {
   "cell_type": "code",
   "execution_count": 17,
   "metadata": {},
   "outputs": [
    {
     "data": {
      "text/plain": [
       "Text(0, 0.5, 'probability')"
      ]
     },
     "execution_count": 17,
     "metadata": {},
     "output_type": "execute_result"
    },
    {
     "data": {
      "image/png": "[encoded data removed]",
      "text/plain": [
       "<Figure size 432x288 with 1 Axes>"
      ]
     },
     "metadata": {
      "needs_background": "light"
     },
     "output_type": "display_data"
    }
   ],
   "source": [
    "# numpy 是专门用于数组运算的包\n",
    "import numpy as np\n",
    "\n",
    "# 从scipy.stats里输入均匀分布的函数\n",
    "from scipy.stats import uniform\n",
    "\n",
    "# matplotlib.pyplot 是专门用于画图的包\n",
    "import matplotlib.pyplot as plt\n",
    "\n",
    "\n",
    "\n",
    "# 起点为0，终点为1(不包括1)，步长为0.01生成数组\n",
    "x = np.arange(start = 0, stop = 1, step = 0.01)\n",
    "\n",
    "# 均匀分布的概率密度函数,x为变量，0为均匀分布起点，100为均匀分布的点的数量\n",
    "y_prior = uniform.pdf(x,loc = 0,scale = 100)\n",
    "\n",
    "# 画折线图\n",
    "plt.plot(x,y_prior)\n",
    "\n",
    "# 添加标题\n",
    "plt.title(\"Prior\")\n",
    "\n",
    "# 添加y轴标签\n",
    "plt.ylabel(\"probability\")"
   ]
  },
  {
   "cell_type": "code",
   "execution_count": 20,
   "metadata": {},
   "outputs": [
    {
     "data": {
      "text/plain": [
       "Text(0, 0.5, 'likelihood')"
      ]
     },
     "execution_count": 20,
     "metadata": {},
     "output_type": "execute_result"
    },
    {
     "data": {
      "image/png": "[encoded data removed]",
      "text/plain": [
       "<Figure size 432x288 with 1 Axes>"
      ]
     },
     "metadata": {
      "needs_background": "light"
     },
     "output_type": "display_data"
    }
   ],
   "source": [
    "# numpy 是专门用于数组运算的包\n",
    "import numpy as np\n",
    "\n",
    "# matplotlib.pyplot 是专门用于画图的包\n",
    "import matplotlib.pyplot as plt\n",
    "\n",
    "\n",
    "# 起点为0，终点为1(不包括1)，步长为0.01生成数组\n",
    "x = np.arange(start = 0, stop = 1, step = 0.01)\n",
    "\n",
    "# comb这个函数是专门用来算组合数的\n",
    "from scipy.special import comb\n",
    "\n",
    "theta = x\n",
    "\n",
    "#  $\\operatorname{Pr}(Z = 3\\mid \\theta) = \\binom{10}{3} \\theta^{3}(1-\\theta)^{10-3}$\n",
    "y_likelihood = comb(10,3)*((theta)**(3))*((1-theta)**(10-3))\n",
    "# 画条形图\n",
    "plt.plot(x,y_likelihood)\n",
    "\n",
    "# 添加标题\n",
    "plt.title(\"Likelihood\")\n",
    "\n",
    "# 添加y轴标签\n",
    "plt.ylabel(\"likelihood\")\n",
    "\n"
   ]
  },
  {
   "cell_type": "code",
   "execution_count": 24,
   "metadata": {},
   "outputs": [
    {
     "data": {
      "text/plain": [
       "Text(0, 0.5, 'probability density')"
      ]
     },
     "execution_count": 24,
     "metadata": {},
     "output_type": "execute_result"
    },
    {
     "data": {
      "image/png": "[encoded data removed]",
      "text/plain": [
       "<Figure size 432x288 with 1 Axes>"
      ]
     },
     "metadata": {
      "needs_background": "light"
     },
     "output_type": "display_data"
    }
   ],
   "source": [
    "# numpy 是专门用于数组运算的包\n",
    "import numpy as np\n",
    "\n",
    "# matplotlib.pyplot 是专门用于画图的包\n",
    "import matplotlib.pyplot as plt\n",
    "\n",
    "# 起点为0，终点为1(不包括1)，步长为0.01生成数组\n",
    "x = np.arange(start = 0, stop = 1, step = 0.01)\n",
    "\n",
    "\n",
    "# P(\\theta|data) = \\frac{P(data|\\theta)*P(\\theta)}{P(data)} \n",
    "y_posterior = (y_prior*y_likelihood)/np.sum(y_prior*y_likelihood)\n",
    "\n",
    "# 画折线图\n",
    "plt.plot(x,y_posterior)\n",
    "\n",
    "\n",
    "# 添加标题\n",
    "plt.title(\"Posterior\")\n",
    "\n",
    "# 添加y轴标签\n",
    "plt.ylabel(\"probability density\")\n",
    "\n"
   ]
  },
  {
   "cell_type": "markdown",
   "metadata": {},
   "source": [
    "在我们认为手指落在陆地上的概率是均值为0.3，标准差为0.1正态分布的之后。"
   ]
  },
  {
   "cell_type": "code",
   "execution_count": 1,
   "metadata": {},
   "outputs": [
    {
     "data": {
      "text/plain": [
       "Text(0, 0.5, 'probability')"
      ]
     },
     "execution_count": 1,
     "metadata": {},
     "output_type": "execute_result"
    },
    {
     "data": {
      "image/png": "[encoded data removed]",
      "text/plain": [
       "<Figure size 432x288 with 1 Axes>"
      ]
     },
     "metadata": {
      "needs_background": "light"
     },
     "output_type": "display_data"
    }
   ],
   "source": [
    "# numpy 是专门用于数组运算的包\n",
    "import numpy as np\n",
    "\n",
    "# 从scipy.stats里输入正态分布的函数\n",
    "from scipy.stats import norm\n",
    "\n",
    "# matplotlib.pyplot 是专门用于画图的包\n",
    "import matplotlib.pyplot as plt\n",
    "\n",
    "\n",
    "\n",
    "# 起点为0，终点为1(不包括1)，步长为0.01生成数组\n",
    "x = np.arange(start = 0, stop = 1, step = 0.01)\n",
    "\n",
    "# 正态分布的概率密度函数,x为变量，0.3为平均值，0.1为标准差\n",
    "y_prior = norm.pdf(x,0.3,0.1)\n",
    "\n",
    "# 画折线图\n",
    "plt.plot(x,y_prior)\n",
    "\n",
    "# 添加标题\n",
    "plt.title(\"Prior\")\n",
    "\n",
    "# 添加y轴标签\n",
    "plt.ylabel(\"probability\")"
   ]
  },
  {
   "cell_type": "code",
   "execution_count": 2,
   "metadata": {},
   "outputs": [
    {
     "data": {
      "text/plain": [
       "Text(0, 0.5, 'likelihood')"
      ]
     },
     "execution_count": 2,
     "metadata": {},
     "output_type": "execute_result"
    },
    {
     "data": {
      "image/png": "[encoded data removed]",
      "text/plain": [
       "<Figure size 432x288 with 1 Axes>"
      ]
     },
     "metadata": {
      "needs_background": "light"
     },
     "output_type": "display_data"
    }
   ],
   "source": [
    "# numpy 是专门用于数组运算的包\n",
    "import numpy as np\n",
    "\n",
    "# matplotlib.pyplot 是专门用于画图的包\n",
    "import matplotlib.pyplot as plt\n",
    "\n",
    "\n",
    "# 起点为0，终点为1(不包括1)，步长为0.01生成数组\n",
    "x = np.arange(start = 0, stop = 1, step = 0.01)\n",
    "\n",
    "# comb这个函数是专门用来算组合数的\n",
    "from scipy.special import comb\n",
    "\n",
    "theta = x\n",
    "\n",
    "#  $\\operatorname{Pr}(Z = 3\\mid \\theta) = \\binom{10}{3} \\theta^{3}(1-\\theta)^{10-3}$\n",
    "y_likelihood = comb(10,3)*((theta)**(3))*((1-theta)**(10-3))\n",
    "# 画条形图\n",
    "plt.plot(x,y_likelihood)\n",
    "\n",
    "# 添加标题\n",
    "plt.title(\"Likelihood\")\n",
    "\n",
    "# 添加y轴标签\n",
    "plt.ylabel(\"likelihood\")\n"
   ]
  },
  {
   "cell_type": "code",
   "execution_count": 3,
   "metadata": {},
   "outputs": [
    {
     "data": {
      "text/plain": [
       "Text(0, 0.5, 'probability density')"
      ]
     },
     "execution_count": 3,
     "metadata": {},
     "output_type": "execute_result"
    },
    {
     "data": {
      "image/png": "[encoded data removed]",
      "text/plain": [
       "<Figure size 432x288 with 1 Axes>"
      ]
     },
     "metadata": {
      "needs_background": "light"
     },
     "output_type": "display_data"
    }
   ],
   "source": [
    "# numpy 是专门用于数组运算的包\n",
    "import numpy as np\n",
    "\n",
    "# matplotlib.pyplot 是专门用于画图的包\n",
    "import matplotlib.pyplot as plt\n",
    "\n",
    "# 起点为0，终点为1(不包括1)，步长为0.01生成数组\n",
    "x = np.arange(start = 0, stop = 1, step = 0.01)\n",
    "\n",
    "\n",
    "# P(\\theta|data) = \\frac{P(data|\\theta)*P(\\theta)}{P(data)} \n",
    "y_posterior = (y_prior*y_likelihood)/np.sum(y_prior*y_likelihood)\n",
    "\n",
    "# 画折线图\n",
    "plt.plot(x,y_posterior)\n",
    "\n",
    "\n",
    "# 添加标题\n",
    "plt.title(\"Posterior\")\n",
    "\n",
    "# 添加y轴标签\n",
    "plt.ylabel(\"probability density\")"
   ]
  },
  {
   "cell_type": "markdown",
   "metadata": {},
   "source": [
    "若我们刻意改变旋转地球仪后手指指向陆地的先验概率，使手指指向陆地的先验概率不可能低于0.3"
   ]
  },
  {
   "cell_type": "code",
   "execution_count": 4,
   "metadata": {},
   "outputs": [
    {
     "data": {
      "text/plain": [
       "Text(0, 0.5, 'probability')"
      ]
     },
     "execution_count": 4,
     "metadata": {},
     "output_type": "execute_result"
    },
    {
     "data": {
      "image/png": "[encoded data removed]",
      "text/plain": [
       "<Figure size 432x288 with 1 Axes>"
      ]
     },
     "metadata": {
      "needs_background": "light"
     },
     "output_type": "display_data"
    }
   ],
   "source": [
    "# numpy 是专门用于数组运算的包\n",
    "import numpy as np\n",
    "\n",
    "# 从scipy.stats里输入正态分布的函数\n",
    "from scipy.stats import norm\n",
    "\n",
    "# matplotlib.pyplot 是专门用于画图的包\n",
    "import matplotlib.pyplot as plt\n",
    "\n",
    "\n",
    "\n",
    "# 起点为0，终点为1(不包括1)，步长为0.01生成数组\n",
    "x = np.arange(start = 0, stop = 1, step = 0.01)\n",
    "\n",
    "# 手指指向陆地的先验概率不可能低于0.5\n",
    "y_prior = np.concatenate([np.repeat(0,30),np.repeat(1,70)])/np.sum(np.concatenate([np.repeat(0,30),np.repeat(1,70)]))\n",
    "\n",
    "# 画折线图\n",
    "plt.plot(x,y_prior)\n",
    "\n",
    "# 添加标题\n",
    "plt.title(\"Prior\")\n",
    "\n",
    "# 添加y轴标签\n",
    "plt.ylabel(\"probability\")"
   ]
  },
  {
   "cell_type": "code",
   "execution_count": 5,
   "metadata": {},
   "outputs": [
    {
     "data": {
      "text/plain": [
       "Text(0, 0.5, 'likelihood')"
      ]
     },
     "execution_count": 5,
     "metadata": {},
     "output_type": "execute_result"
    },
    {
     "data": {
      "image/png": "[encoded data removed]",
      "text/plain": [
       "<Figure size 432x288 with 1 Axes>"
      ]
     },
     "metadata": {
      "needs_background": "light"
     },
     "output_type": "display_data"
    }
   ],
   "source": [
    "# numpy 是专门用于数组运算的包\n",
    "import numpy as np\n",
    "\n",
    "# matplotlib.pyplot 是专门用于画图的包\n",
    "import matplotlib.pyplot as plt\n",
    "\n",
    "\n",
    "# 起点为0，终点为1(不包括1)，步长为0.01生成数组\n",
    "x = np.arange(start = 0, stop = 1, step = 0.01)\n",
    "\n",
    "# comb这个函数是专门用来算组合数的\n",
    "from scipy.special import comb\n",
    "\n",
    "theta = x\n",
    "\n",
    "#  $\\operatorname{Pr}(Z = 3\\mid \\theta) = \\binom{10}{3} \\theta^{3}(1-\\theta)^{10-3}$\n",
    "y_likelihood = comb(10,3)*((theta)**(3))*((1-theta)**(10-3))\n",
    "# 画条形图\n",
    "plt.plot(x,y_likelihood)\n",
    "\n",
    "# 添加标题\n",
    "plt.title(\"Likelihood\")\n",
    "\n",
    "# 添加y轴标签\n",
    "plt.ylabel(\"likelihood\")"
   ]
  },
  {
   "cell_type": "code",
   "execution_count": 6,
   "metadata": {},
   "outputs": [
    {
     "data": {
      "text/plain": [
       "Text(0, 0.5, 'probability density')"
      ]
     },
     "execution_count": 6,
     "metadata": {},
     "output_type": "execute_result"
    },
    {
     "data": {
      "image/png": "[encoded data removed]",
      "text/plain": [
       "<Figure size 432x288 with 1 Axes>"
      ]
     },
     "metadata": {
      "needs_background": "light"
     },
     "output_type": "display_data"
    }
   ],
   "source": [
    "# numpy 是专门用于数组运算的包\n",
    "import numpy as np\n",
    "\n",
    "# matplotlib.pyplot 是专门用于画图的包\n",
    "import matplotlib.pyplot as plt\n",
    "\n",
    "# 起点为0，终点为1(不包括1)，步长为0.01生成数组\n",
    "x = np.arange(start = 0, stop = 1, step = 0.01)\n",
    "\n",
    "\n",
    "# P(\\theta|data) = \\frac{P(data|\\theta)*P(\\theta)}{P(data)} \n",
    "y_posterior = (y_prior*y_likelihood)/np.sum(y_prior*y_likelihood)\n",
    "\n",
    "# 画折线图\n",
    "plt.plot(x,y_posterior)\n",
    "\n",
    "\n",
    "# 添加标题\n",
    "plt.title(\"Posterior\")\n",
    "\n",
    "# 添加y轴标签\n",
    "plt.ylabel(\"probability density\")"
   ]
  },
  {
   "cell_type": "markdown",
   "metadata": {},
   "source": [
    "若我们刻意改变旋转地球仪后手指指向陆地的先验概率，使手指指向陆地的概率在0.3以下特别低，超过0.3的话越接近1的概率越低"
   ]
  },
  {
   "cell_type": "code",
   "execution_count": 11,
   "metadata": {},
   "outputs": [
    {
     "data": {
      "text/plain": [
       "Text(0, 0.5, 'probability')"
      ]
     },
     "execution_count": 11,
     "metadata": {},
     "output_type": "execute_result"
    },
    {
     "data": {
      "image/png": "[encoded data removed]",
      "text/plain": [
       "<Figure size 432x288 with 1 Axes>"
      ]
     },
     "metadata": {
      "needs_background": "light"
     },
     "output_type": "display_data"
    }
   ],
   "source": [
    "# numpy 是专门用于数组运算的包\n",
    "import numpy as np\n",
    "\n",
    "# 从scipy.stats里输入正态分布的函数\n",
    "from scipy.stats import norm\n",
    "\n",
    "# matplotlib.pyplot 是专门用于画图的包\n",
    "import matplotlib.pyplot as plt\n",
    "\n",
    "\n",
    "\n",
    "# 起点为0，终点为1(不包括1)，步长为0.01生成数组\n",
    "x = np.arange(start = 0, stop = 1, step = 0.01)\n",
    "\n",
    "# 正态分布的概率密度函数,x为变量，0.5为平均值，0.1为标准差\n",
    "y_prior = np.concatenate([np.exp(np.linspace(0,0,30)),np.exp(np.linspace(1,0.3,70))])/np.sum(np.concatenate([np.exp(np.linspace(0,0,30)),np.exp(np.linspace(1,0.3,70))]))\n",
    "\n",
    "# 画折线图\n",
    "plt.plot(x,y_prior)\n",
    "\n",
    "# 添加标题\n",
    "plt.title(\"Prior\")\n",
    "\n",
    "# 添加y轴标签\n",
    "plt.ylabel(\"probability\")"
   ]
  },
  {
   "cell_type": "code",
   "execution_count": 12,
   "metadata": {},
   "outputs": [
    {
     "data": {
      "text/plain": [
       "Text(0, 0.5, 'likelihood')"
      ]
     },
     "execution_count": 12,
     "metadata": {},
     "output_type": "execute_result"
    },
    {
     "data": {
      "image/png": "[encoded data removed]",
      "text/plain": [
       "<Figure size 432x288 with 1 Axes>"
      ]
     },
     "metadata": {
      "needs_background": "light"
     },
     "output_type": "display_data"
    }
   ],
   "source": [
    "# numpy 是专门用于数组运算的包\n",
    "import numpy as np\n",
    "\n",
    "# matplotlib.pyplot 是专门用于画图的包\n",
    "import matplotlib.pyplot as plt\n",
    "\n",
    "\n",
    "# 起点为0，终点为1(不包括1)，步长为0.01生成数组\n",
    "x = np.arange(start = 0, stop = 1, step = 0.01)\n",
    "\n",
    "# comb这个函数是专门用来算组合数的\n",
    "from scipy.special import comb\n",
    "\n",
    "theta = x\n",
    "\n",
    "#  $\\operatorname{Pr}(Z = 3\\mid \\theta) = \\binom{10}{3} \\theta^{3}(1-\\theta)^{10-3}$\n",
    "y_likelihood = comb(10,3)*((theta)**(3))*((1-theta)**(10-3))\n",
    "# 画条形图\n",
    "plt.plot(x,y_likelihood)\n",
    "\n",
    "# 添加标题\n",
    "plt.title(\"Likelihood\")\n",
    "\n",
    "# 添加y轴标签\n",
    "plt.ylabel(\"likelihood\")"
   ]
  },
  {
   "cell_type": "code",
   "execution_count": 13,
   "metadata": {},
   "outputs": [
    {
     "data": {
      "text/plain": [
       "Text(0, 0.5, 'probability density')"
      ]
     },
     "execution_count": 13,
     "metadata": {},
     "output_type": "execute_result"
    },
    {
     "data": {
      "image/png": "[encoded data removed]",
      "text/plain": [
       "<Figure size 432x288 with 1 Axes>"
      ]
     },
     "metadata": {
      "needs_background": "light"
     },
     "output_type": "display_data"
    }
   ],
   "source": [
    "# numpy 是专门用于数组运算的包\n",
    "import numpy as np\n",
    "\n",
    "# matplotlib.pyplot 是专门用于画图的包\n",
    "import matplotlib.pyplot as plt\n",
    "\n",
    "# 起点为0，终点为1(不包括1)，步长为0.01生成数组\n",
    "x = np.arange(start = 0, stop = 1, step = 0.01)\n",
    "\n",
    "\n",
    "# P(\\theta|data) = \\frac{P(data|\\theta)*P(\\theta)}{P(data)} \n",
    "y_posterior = (y_prior*y_likelihood)/np.sum(y_prior*y_likelihood)\n",
    "\n",
    "# 画折线图\n",
    "plt.plot(x,y_posterior)\n",
    "\n",
    "\n",
    "# 添加标题\n",
    "plt.title(\"Posterior\")\n",
    "\n",
    "# 添加y轴标签\n",
    "plt.ylabel(\"probability density\")"
   ]
  },
  {
   "cell_type": "code",
   "execution_count": null,
   "metadata": {},
   "outputs": [],
   "source": []
  }
 ],
 "metadata": {
  "kernelspec": {
   "display_name": "Python 3.8.9 64-bit",
   "language": "python",
   "name": "python3"
  },
  "language_info": {
   "codemirror_mode": {
    "name": "ipython",
    "version": 3
   },
   "file_extension": ".py",
   "mimetype": "text/x-python",
   "name": "python",
   "nbconvert_exporter": "python",
   "pygments_lexer": "ipython3",
   "version": "3.8.9"
  },
  "orig_nbformat": 4,
  "vscode": {
   "interpreter": {
    "hash": "31f2aee4e71d21fbe5cf8b01ff0e069b9275f58929596ceb00d14d90e3e16cd6"
   }
  }
 },
 "nbformat": 4,
 "nbformat_minor": 2
}
