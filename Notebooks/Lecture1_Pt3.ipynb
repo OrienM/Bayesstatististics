{
 "cells": [
  {
   "cell_type": "markdown",
   "metadata": {},
   "source": [
    "# 高级心理统计[Advanced Statistics in Psychological Science]\n",
    "## 《贝叶斯统计及其在Python中的实现》 [Bayesian inference in Python]\n",
    "## Instructor： 胡传鹏（博士）[Dr. Hu Chuan-Peng]\n",
    "### 南京师范大学心理学院[School of Psychology, Nanjing Normal University]"
   ]
  },
  {
   "cell_type": "markdown",
   "metadata": {},
   "source": [
    "# 2. 课程内容\n",
    "### 2.0 课时\n",
    "8.29 ～ 12.30，18周\n",
    "\n",
    "### 2.1 教学目标：\n",
    "\n",
    "（1）理解贝叶斯推断的基本原理；\n",
    "\n",
    "（2）了解PyMC3的语法和结构；\n",
    "\n",
    "（3）可以使用PyMC3解决相对简单的统计推断问题（如层级线性模型）"
   ]
  },
  {
   "cell_type": "markdown",
   "metadata": {},
   "source": [
    "\n",
    "### 2.2 考核方式：\n",
    "\n",
    "#### 考勤\n",
    "10%\n",
    "\n",
    "\n"
   ]
  },
  {
   "cell_type": "markdown",
   "metadata": {},
   "source": [
    "#### 小作业\n",
    "45%\n",
    "\t\n",
    "（1）简单的代码作业 notebook\n",
    "\t\n",
    "（2）概念理解 notebook\n",
    "\t\n",
    "（3）workflow notebook"
   ]
  },
  {
   "cell_type": "markdown",
   "metadata": {},
   "source": [
    "#### 大作业：\n",
    "真实的数据分析 45%\n",
    "* 合作完成\n",
    "* 包括代码与文字报告\n",
    "* 进行汇报 \n",
    "* 标准：分工合理、数据分析流程完整、汇报展示清晰美观"
   ]
  },
  {
   "cell_type": "markdown",
   "metadata": {},
   "source": [
    "\n",
    "### 2.3 课程风格：\n",
    "\t（1）内容有挑战、考核不复杂\n",
    "\t（2）1/3一节课展示或互动抄代码\n",
    "\t（3）专门设有答疑时间，助教给大家答疑解惑\n",
    "\n",
    "\n"
   ]
  },
  {
   "cell_type": "markdown",
   "metadata": {},
   "source": [
    "\n",
    "### 2.4 课程大纲\n",
    "#### 0 Intro （第一课）\n",
    "* 1 课程介绍\n",
    "#### I Basics：\n",
    "* 2 贝叶斯与频率主义的对比、概率（离散、连续）/条件概率；\n",
    "* 3 贝叶斯法则/联合分布；\n",
    "* 4 ～ 6. Likelihood, Prior （PPC）, Denominator, Posterior （PPC）[student’s Guide, Part II]\n",
    "\n",
    "#### II 现代贝叶斯统计的内在工作机制（sampler）\n",
    "* 7 MCMC\n",
    "\n",
    "#### III Bayesian Workflow\n",
    "* 8 LM + PyMC3\n",
    "* 9 诊断\n",
    "* 10 比较\n",
    "* 11 推断\n",
    "\n",
    "#### IV Applications\n",
    "* 12 GLM & more LM\n",
    "* 13 层级模型 LMM （RT/调查数据）\n",
    "* 14 GLMM (信号检验论)\n",
    "* 15 扩展示例\n",
    "\n",
    "#### V 讲座与作业展示\n",
    "* 学术报告：劳俊鹏博士 (Google)\n",
    "* 大作业"
   ]
  },
  {
   "cell_type": "markdown",
   "metadata": {},
   "source": [
    "#### 2.5 参考书\n",
    "\n",
    "<img src=\"./img/fig_chp1_student_guide.jpg\" alt=\"Drawing\" style=\"width: 300px;\"/>"
   ]
  },
  {
   "cell_type": "markdown",
   "metadata": {},
   "source": [
    "<img src=\"./img/fig_chp1_Bayesian_py.jpg\" alt=\"Drawing\" style=\"width: 300px;\"/>"
   ]
  },
  {
   "cell_type": "markdown",
   "metadata": {},
   "source": [
    "<img src=\"./img/fig_chp1_rethinking.jpg\" alt=\"Drawing\" style=\"width: 300px;\"/>"
   ]
  }
 ],
 "metadata": {
  "kernelspec": {
   "display_name": "Python 3.8.9 64-bit",
   "language": "python",
   "name": "python3"
  },
  "language_info": {
   "codemirror_mode": {
    "name": "ipython",
    "version": 3
   },
   "file_extension": ".py",
   "mimetype": "text/x-python",
   "name": "python",
   "nbconvert_exporter": "python",
   "pygments_lexer": "ipython3",
   "version": "3.8.9"
  },
  "orig_nbformat": 4,
  "vscode": {
   "interpreter": {
    "hash": "31f2aee4e71d21fbe5cf8b01ff0e069b9275f58929596ceb00d14d90e3e16cd6"
   }
  }
 },
 "nbformat": 4,
 "nbformat_minor": 2
}
