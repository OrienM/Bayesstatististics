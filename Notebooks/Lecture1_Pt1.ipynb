{
 "cells": [
  {
   "cell_type": "markdown",
   "id": "3c152b43",
   "metadata": {},
   "source": [
    "# 高级心理统计[Advanced Statistics in Psychological Science]\n",
    "## 《贝叶斯统计及其在Python中的实现》 [Bayesian inference in Python]\n",
    "## Instructor： 胡传鹏（博士）[Dr. Hu Chuan-Peng]\n",
    "### 南京师范大学心理学院[School of Psychology, Nanjing Normal University]"
   ]
  },
  {
   "cell_type": "markdown",
   "id": "d2b325df",
   "metadata": {},
   "source": [
    "研究人类心理与行为的规律，容易吗？"
   ]
  },
  {
   "cell_type": "markdown",
   "id": "ef4b6d7c",
   "metadata": {},
   "source": [
    "## Outlines\n",
    "* 1. 为什么要学习本课程 [Why Bayesia inference]\n",
    "* 2. 本课程的内容将是什么 [What is the syllabus]\n",
    "* 3. 如何学好这门课[How can I learn this course well]"
   ]
  },
  {
   "cell_type": "markdown",
   "id": "51c6ff3f-2c30-4f57-b1e4-7f8c30caca4d",
   "metadata": {},
   "source": [
    "##  1. 为什么要学习本课程 [Why Bayesia inference]\n",
    "\n",
    "### 1.1 为什么心理学需要更好的方法【Why does psychological science need better methods?]\n",
    "\n",
    "#### 原因1: 复杂的研究问题"
   ]
  },
  {
   "cell_type": "markdown",
   "id": "4fa75bb6-a4cf-49c8-a932-87abca98af37",
   "metadata": {},
   "source": [
    "<img src=\"./img/fig_chp1_0.gif\" alt=\"Drawing\" style=\"width: 300px;\"/>\n",
    "\n",
    "Source: https://www.science.org/toc/science/309/5731"
   ]
  },
  {
   "cell_type": "markdown",
   "id": "e5e145de",
   "metadata": {},
   "source": [
    "Q1: What is the Uiverse Made of [physics ]\n",
    "\n",
    "Q2: What is the Biological Basis of Consciouness [psychological science]"
   ]
  },
  {
   "cell_type": "markdown",
   "id": "1c9f54a6-6401-4a02-8195-c715fd3d44db",
   "metadata": {},
   "source": [
    "##### 问题\n",
    "同样重要和复杂的问题，是否意味着类似复杂和高级的方法？"
   ]
  },
  {
   "cell_type": "markdown",
   "id": "ee3d9074-24f5-45b2-90b4-68f5cf5031b9",
   "metadata": {},
   "source": [
    "##### 物理学中的方法 [Methods in Physics]:\n",
    "\n",
    "Example 1: Webb telescope (韦伯望远镜)  [**equipment**]"
   ]
  },
  {
   "cell_type": "markdown",
   "id": "286968e3",
   "metadata": {},
   "source": [
    "<img src=\"./img/fig_chp1_1.png\" alt=\"Drawing\" style=\"width: 800px;\"/>"
   ]
  },
  {
   "cell_type": "markdown",
   "id": "aa0b7267",
   "metadata": {},
   "source": [
    "Example 2: Big-team science (CERN, the European Organization for Nuclear Research) [**equipment & practices**]\n",
    "\n",
    "Example 3: **Mathematics**"
   ]
  },
  {
   "cell_type": "markdown",
   "id": "e5aaf896-93ba-4eec-aa33-8f20d01c7501",
   "metadata": {},
   "source": [
    "##### 其他研究人类智能的领域所采用的方法 [Methods in other fields that also study \"intelligence\"]\n",
    "\n",
    "**AI**\n",
    "\n",
    "<img src=\"./img/fig_chp1_2.png\" alt=\"Drawing\" style=\"width: 600px;\"/>"
   ]
  },
  {
   "cell_type": "markdown",
   "id": "25c0a697-6d3c-4ba1-87a1-4e751ac78a49",
   "metadata": {},
   "source": [
    "##### 心理科学的研究方法 [What do psychological scientists have?]\n",
    "你们能够想到的研究方法包括哪些？"
   ]
  },
  {
   "cell_type": "markdown",
   "id": "22c0a59f-75cd-438d-b6d6-e57387dc272b",
   "metadata": {},
   "source": [
    "<img src=\"./img/fig_chp1_3.png\" alt=\"Drawing\" style=\"width: 800px;\"/>"
   ]
  },
  {
   "cell_type": "markdown",
   "id": "c705f696",
   "metadata": {},
   "source": [
    "**实证研究：**\n",
    "* 质性研究\n",
    "* 观察法\n",
    "* 问卷\n",
    "* 行为实验\n",
    "* 眼动、生理数据记录\n",
    "* EEG/ERP/MEG\n",
    "* fMRI/PET/fNIRs\n",
    "* TMS/tDCS\n",
    "* ..."
   ]
  },
  {
   "cell_type": "markdown",
   "id": "ef08f1c3",
   "metadata": {},
   "source": [
    "**统计方法：**\n",
    "* t-test\n",
    "* ANOVA\n",
    "* Correlation\n",
    "* Structural equation model (SEM)\n",
    "* ?"
   ]
  },
  {
   "cell_type": "markdown",
   "id": "b2deedd2",
   "metadata": {},
   "source": [
    "##### 相关方法课程：\n",
    "* 心理测量\n",
    "* 心理统计（包括SPSS等）\n",
    "* 实验心理学（包括Eprime等）\n",
    "* ？"
   ]
  },
  {
   "cell_type": "markdown",
   "id": "f64c2e5f",
   "metadata": {},
   "source": [
    "* 更好的仪器\n",
    "* **更好的统计/数据分析**\n",
    "* 更好的实践 (e.g., big-team science)"
   ]
  },
  {
   "cell_type": "markdown",
   "id": "52bbc6a2-f165-4c3e-9792-ca81cc8ca423",
   "metadata": {},
   "source": [
    "#### 原因2: 更复杂的数据\n",
    "\n",
    "* 数据字化的时代，大数据\n",
    "* 神经成像/生理数据\n",
    "* 多模态的数据融合"
   ]
  },
  {
   "cell_type": "markdown",
   "id": "e0c9551d",
   "metadata": {},
   "source": [
    "### 1.2 确实有更好的统计方法"
   ]
  },
  {
   "cell_type": "markdown",
   "id": "6e127fb1",
   "metadata": {},
   "source": [
    "贝叶斯统计 (Bayesian inference)\n",
    "\n",
    "<img src=\"./img/fig_chp1_4.png\" alt=\"Drawing\" style=\"width: 750px;\"/>\n"
   ]
  },
  {
   "cell_type": "markdown",
   "id": "1ed0f312",
   "metadata": {},
   "source": [
    "* 灵活/强大/能用\n",
    "* 易用\n",
    "* 可拓展性强\n",
    "* 方便交流\n",
    "* ..."
   ]
  },
  {
   "cell_type": "markdown",
   "id": "ec099ac3",
   "metadata": {},
   "source": [
    "##### 灵活/强大/通用\n",
    "\n",
    "不需要解析解\n",
    "\n",
    "贝叶斯分析在多个学科中得到广泛应用，尤其是AI"
   ]
  },
  {
   "cell_type": "markdown",
   "id": "00bad60c-8aca-44a7-afa6-4ef626c5d4a6",
   "metadata": {},
   "source": [
    "##### （相对）易用\n",
    "\n",
    "概率编程语言(Probabilistic Programming Languages)的发展和普及\n",
    "\n",
    "\n",
    "PPLs: *computational languages for statistical modeling*\n",
    "\n",
    "* PyMC\n",
    "* Stan\n",
    "* NumPyro\n",
    "* Pyro\n",
    "* BUGS\n",
    "* ..."
   ]
  },
  {
   "cell_type": "markdown",
   "id": "e5a52f7f-6654-4158-b4f4-1a07f5051035",
   "metadata": {},
   "source": [
    "大部分情况下，开发者使用它可以轻松地定义概率模型，然后程序会自动地求解模型。\n",
    "\n",
    "<img src=\"./img/fig_chp1_5.png\" alt=\"Drawing\" style=\"width: 800px;\"/>\n",
    "\n",
    "Source: https://towardsdatascience.com/intro-to-probabilistic-programming-b47c4e926ec5\n"
   ]
  },
  {
   "cell_type": "markdown",
   "id": "bfac15b7-da82-4018-b5ee-8119494f4dd2",
   "metadata": {},
   "source": [
    "##### 可拓展\n",
    "\n",
    "贝叶斯概念已经应用到以深度学习为中心的新技术的发展，包括深度学习框架(TensorFlow, Pytorch)，创建表示能力更强、数据驱动的模型"
   ]
  },
  {
   "cell_type": "markdown",
   "id": "b906104e",
   "metadata": {},
   "source": [
    "##### 方便交流\n",
    "大部分PPLs都有类似的数据结构，但是不同的学科使用的语言不同。\n",
    "\n",
    "心理学/社会科学/神经科学：\n",
    "* **PyMC3**\n",
    "* Stan\n",
    "* BUGS"
   ]
  }
 ],
 "metadata": {
  "kernelspec": {
   "display_name": "Python 3.8.9 64-bit",
   "language": "python",
   "name": "python3"
  },
  "language_info": {
   "codemirror_mode": {
    "name": "ipython",
    "version": 3
   },
   "file_extension": ".py",
   "mimetype": "text/x-python",
   "name": "python",
   "nbconvert_exporter": "python",
   "pygments_lexer": "ipython3",
   "version": "3.8.9"
  },
  "toc": {
   "base_numbering": 1,
   "nav_menu": {},
   "number_sections": true,
   "sideBar": true,
   "skip_h1_title": false,
   "title_cell": "Table of Contents",
   "title_sidebar": "Contents",
   "toc_cell": false,
   "toc_position": {},
   "toc_section_display": true,
   "toc_window_display": false
  },
  "vscode": {
   "interpreter": {
    "hash": "31f2aee4e71d21fbe5cf8b01ff0e069b9275f58929596ceb00d14d90e3e16cd6"
   }
  }
 },
 "nbformat": 4,
 "nbformat_minor": 5
}
