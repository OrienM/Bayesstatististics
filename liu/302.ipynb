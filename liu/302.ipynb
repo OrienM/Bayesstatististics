{
 "cells": [
  {
   "cell_type": "markdown",
   "metadata": {},
   "source": [
    "<div style=\"text-align: center;\">\t\n",
    "\t\n",
    "# 高级心理统计[Advanced Statistics in Psychological Science]\n",
    "## 《贝叶斯统计及其在Python中的实现》 [Bayesian inference in Python]\n",
    "## Instructor： 胡传鹏（博士）[Dr. Hu Chuan-Peng]\n",
    "### 南京师范大学心理学院[School of Psychology, Nanjing Normal University]\n",
    "\t\n",
    "</div>"
   ]
  },
  {
   "cell_type": "markdown",
   "metadata": {},
   "source": [
    "<div style=\"text-align: center;\">\t\n",
    "\t\n",
    "# part 2 模型参数\n",
    "\t\n",
    "</div> "
   ]
  },
  {
   "cell_type": "markdown",
   "metadata": {},
   "source": [
    "<div style=\"text-align: center;\">\n",
    "\n",
    "# 概率质量函数 (Probability Mass Function, PMF)\n",
    "\n",
    "随机变量X的概率质量函数被定义为随机变量呈现特定值的概率。\n",
    "\n",
    "</div>"
   ]
  },
  {
   "cell_type": "markdown",
   "metadata": {},
   "source": [
    "<div style=\"text-align: center;\">\n",
    "\n",
    " $$ p(x_k)=P[X=x_k] $$\n",
    "\n",
    "</div>"
   ]
  },
  {
   "cell_type": "markdown",
   "metadata": {},
   "source": [
    "<div style=\"text-align: center;\">\n",
    "\n",
    "# 概率密度函数 (Probability Density Function, PDF)\n",
    "\n",
    "随机变量的取值落在某个区域之内的概率则为概率密度函数在这个区域上的积分\n",
    "\n",
    "</div>"
   ]
  },
  {
   "cell_type": "markdown",
   "metadata": {},
   "source": [
    "\n",
    "<div style=\"text-align: center;\">\n",
    "\n",
    "$$ f(x)=\\sum_{k}^{}p(x_k)\\delta(x-x_k)  $$\n",
    "\n",
    "\n",
    "</div>"
   ]
  },
  {
   "cell_type": "markdown",
   "metadata": {},
   "source": [
    "<div style=\"text-align: center;\">\n",
    "\n",
    "# 离散概率分布\n",
    "\n",
    "</div>"
   ]
  },
  {
   "cell_type": "markdown",
   "metadata": {},
   "source": [
    "<div style=\"text-align: center;\">\n",
    "\n",
    "# 伯努利分布(bernoulli distribution)\n",
    "\n",
    "</div>"
   ]
  },
  {
   "cell_type": "markdown",
   "metadata": {},
   "source": [
    "假设一个事件只有发生或者不发生两种可能，并且这两种可能是固定不变的。那么，如果假设它发生的概率是p，那么它不发生的概率就是1-p。这就是伯努利分布。\n",
    "\n",
    "伯努利实验就是做一次服从伯努利概率分布的事件，它发生的可能性是p，不发生的可能性是1-p。"
   ]
  },
  {
   "cell_type": "markdown",
   "metadata": {},
   "source": [
    "<div style=\"text-align: center;\">\n",
    "\n",
    " $$ f(k,n,p) = p^{k}(1-p)^{n-k} $$\n",
    "\n",
    "</div>"
   ]
  },
  {
   "cell_type": "markdown",
   "metadata": {},
   "source": [
    "<div style=\"text-align: center;\">\n",
    "\n",
    " 在$ f(k,n,p) = p^{k}(1-p)^{n-k} $中，若k为自变量，则n，p为模型参数\n",
    "\n",
    "</div>"
   ]
  },
  {
   "cell_type": "code",
   "execution_count": 2,
   "metadata": {},
   "outputs": [],
   "source": [
    "import numpy as np\n",
    "import matplotlib.pyplot as plt\n",
    "\n",
    "#从scipy.stats模块加载二项分布、伯努利分布、正态分布、超几何分布、泊松分布、t分布模块\n",
    "from scipy.stats import binom, bernoulli,norm,hypergeom,poisson,t\n",
    "#从scipy包加载stats模块\n",
    "from scipy import stats"
   ]
  },
  {
   "cell_type": "code",
   "execution_count": 5,
   "metadata": {},
   "outputs": [
    {
     "data": {
      "image/png": "[encoded data removed]",
      "text/plain": [
       "<Figure size 432x288 with 1 Axes>"
      ]
     },
     "metadata": {
      "needs_background": "light"
     },
     "output_type": "display_data"
    }
   ],
   "source": [
    "fig, ax = plt.subplots(1, 1)\n",
    "\n",
    "p = 0.3\n",
    "\n",
    "# 在参数为0.3的情况下，伯努利分布的平均值m、方差v、峰度s和偏度k\n",
    "mean, var, skew, kurt = bernoulli.stats(p, moments='mvsk') \n",
    "\n",
    "x1 = bernoulli.ppf(0.01, p)\n",
    "x2 = bernoulli.ppf(0.99, p)\n",
    "\n",
    "ax.plot(x1, bernoulli.pmf(x1, p), 'bo', ms=8, label='bernoulli pmf')\n",
    "\n",
    "ax.vlines(x1, 0, bernoulli.pmf(x1, p), colors='b', lw=5, alpha=0.5)\n",
    "\n",
    "ax.plot(x2, bernoulli.pmf(x2, p), 'bo', ms=8, label='bernoulli pmf')\n",
    "\n",
    "ax.vlines(x2, 0, bernoulli.pmf(x2, p), colors='b', lw=5, alpha=0.5)\n",
    "\n",
    "\n",
    "plt.show()"
   ]
  },
  {
   "cell_type": "markdown",
   "metadata": {},
   "source": [
    "<div style=\"text-align: center;\">\n",
    "\n",
    "# 二项分布(bonimial distribution)\n",
    "\n",
    "</div>"
   ]
  },
  {
   "cell_type": "markdown",
   "metadata": {},
   "source": [
    "二项分布是多次伯努利分布实验的概率分布。\n",
    "\n",
    "以抛硬币举例，在抛硬币事件当中，每一次抛硬币的结果是独立的，并且每次抛硬币正面朝上的概率是恒定的，所以单次抛硬币符合伯努利分布。我们假设硬币正面朝上的概率是p，忽略中间朝上的情况，那么反面朝上的概率是q=(1-p)。我们重复抛n次硬币，其中有k项正面朝上的事件，就是二项分布"
   ]
  },
  {
   "cell_type": "markdown",
   "metadata": {},
   "source": [
    "\n",
    "<div style=\"text-align: center;\">\n",
    "\n",
    "# $$ b(k,n,p) = \\binom{k}{n} p^{k}(1-p)^{n-k} $$\n",
    "\n",
    "</div>"
   ]
  },
  {
   "cell_type": "code",
   "execution_count": 26,
   "metadata": {},
   "outputs": [
    {
     "data": {
      "image/png": "[encoded data removed]",
      "text/plain": [
       "<Figure size 432x288 with 1 Axes>"
      ]
     },
     "metadata": {
      "needs_background": "light"
     },
     "output_type": "display_data"
    }
   ],
   "source": [
    "fig, ax = plt.subplots(1, 1)\n",
    "n, p = 5, 0.4\n",
    "\n",
    "# 在参数n为5，p为0.4的情况下，伯努利分布的平均值m、方差v、峰度s和偏度k\n",
    "mean, var, skew, kurt = binom.stats(n, p, moments='mvsk')\n",
    "\n",
    "x = np.arange(binom.ppf(0.01, n, p),\n",
    "              binom.ppf(0.99, n, p))\n",
    "\n",
    "ax.plot(x, binom.pmf(x, n, p), 'bo', ms=8, label='binom pmf')\n",
    "\n",
    "ax.vlines(x, 0, binom.pmf(x, n, p), colors='b', lw=5, alpha=0.5)\n",
    "\n",
    "plt.show()"
   ]
  },
  {
   "cell_type": "markdown",
   "metadata": {},
   "source": [
    "<div style=\"text-align: center;\">\n",
    "\n",
    "# 二项分布(bonimial distribution)，当n取值不同时\n",
    "\n",
    "</div>"
   ]
  },
  {
   "cell_type": "code",
   "execution_count": 6,
   "metadata": {},
   "outputs": [
    {
     "data": {
      "text/plain": [
       "<BarContainer object of 16 artists>"
      ]
     },
     "execution_count": 6,
     "metadata": {},
     "output_type": "execute_result"
    },
    {
     "data": {
      "image/png": "[encoded data removed]",
      "text/plain": [
       "<Figure size 432x288 with 1 Axes>"
      ]
     },
     "metadata": {
      "needs_background": "light"
     },
     "output_type": "display_data"
    }
   ],
   "source": [
    "# p=0.5,n=5\n",
    "p = 0.5\n",
    "k = np.linspace(0,5,6)\n",
    "n = 5\n",
    "\n",
    "prob = binom.pmf(k,n,p)\n",
    "\n",
    "plt.bar(k,prob,width=1)\n",
    "\n",
    "# p=0.5, n=10\n",
    "\n",
    "p = 0.5\n",
    "k = np.linspace(0,10,11)\n",
    "n = 10\n",
    "\n",
    "prob = binom.pmf(k,n,p)\n",
    "\n",
    "plt.bar(k,prob,width=1)\n",
    "\n",
    "# p=0.5, n=15\n",
    "\n",
    "p = 0.5\n",
    "k = np.linspace(0,15,16)\n",
    "n = 15\n",
    "\n",
    "prob = binom.pmf(k,n,p)\n",
    "\n",
    "plt.bar(k,prob,width=1)\n"
   ]
  },
  {
   "cell_type": "markdown",
   "metadata": {},
   "source": [
    "<div style=\"text-align: center;\">\n",
    "\n",
    "# 二项分布(bonimial distribution)，当p取值不同时\n",
    "\n",
    "</div>"
   ]
  },
  {
   "cell_type": "code",
   "execution_count": 7,
   "metadata": {},
   "outputs": [
    {
     "data": {
      "text/plain": [
       "<BarContainer object of 11 artists>"
      ]
     },
     "execution_count": 7,
     "metadata": {},
     "output_type": "execute_result"
    },
    {
     "data": {
      "image/png": "[encoded data removed]",
      "text/plain": [
       "<Figure size 432x288 with 1 Axes>"
      ]
     },
     "metadata": {
      "needs_background": "light"
     },
     "output_type": "display_data"
    }
   ],
   "source": [
    "# p = 0.3, n=10\n",
    "p = 0.3\n",
    "k = np.linspace(0,10,11)\n",
    "n = 10\n",
    "\n",
    "prob = binom.pmf(k,n,p)\n",
    "\n",
    "plt.bar(k,prob,width=1)\n",
    "\n",
    "\n",
    "# p = 0.4, n=10\n",
    "p = 0.4\n",
    "k = np.linspace(0,10,11)\n",
    "n = 10\n",
    "\n",
    "prob = binom.pmf(k,n,p)\n",
    "\n",
    "plt.bar(k,prob,width=1)\n",
    "\n",
    "# p = 0.5, n=10\n",
    "p = 0.5\n",
    "k = np.linspace(0,10,11)\n",
    "n = 10\n",
    "\n",
    "prob = binom.pmf(k,n,p)\n",
    "\n",
    "plt.bar(k,prob,width=1)\n",
    "\n",
    "# p = 0.6, n=10\n",
    "p = 0.6\n",
    "k = np.linspace(0,10,11)\n",
    "n = 10\n",
    "\n",
    "prob = binom.pmf(k,n,p)\n",
    "\n",
    "plt.bar(k,prob,width=1)\n",
    "p = 0.7\n",
    "k = np.linspace(0,10,11)\n",
    "n = 10\n",
    "\n",
    "prob = binom.pmf(k,n,p)\n",
    "\n",
    "plt.bar(k,prob,width=1)"
   ]
  },
  {
   "cell_type": "markdown",
   "metadata": {},
   "source": [
    "<div style=\"text-align: center;\">\n",
    "\n",
    "# 超几何分布\n",
    "\n",
    "</div>"
   ]
  },
  {
   "cell_type": "markdown",
   "metadata": {},
   "source": [
    "<div style=\"text-align: center;\">\n",
    "\n",
    "# $$ p(k,M,n,N)=\\frac{\\binom{n}{k}\\binom{M-n}{N-k} }{\\binom{M}{n} } $$\n",
    "\n",
    "# $$ \\binom{n}{k} = \\frac{n!}{k!(n-k)!} $$\n",
    "\n",
    "</div>"
   ]
  },
  {
   "cell_type": "markdown",
   "metadata": {},
   "source": [
    "假设某医院接收到20位病人，其中7位病人患有心理健康问题。那么，如果我们想知道如果我们从20位病人中中随机选择12位，找到一定数量的患有精神健康问题的病人的概率。"
   ]
  },
  {
   "cell_type": "code",
   "execution_count": 10,
   "metadata": {},
   "outputs": [
    {
     "data": {
      "image/png": "[encoded data removed]",
      "text/plain": [
       "<Figure size 432x288 with 1 Axes>"
      ]
     },
     "metadata": {
      "needs_background": "light"
     },
     "output_type": "display_data"
    }
   ],
   "source": [
    "[M, n, N] = [20, 7, 12]\n",
    "\n",
    "rv = hypergeom(M, n, N)\n",
    "\n",
    "x = np.arange(0, n+1)\n",
    "\n",
    "pmf_target = rv.pmf(x)\n",
    "\n",
    "fig = plt.figure()\n",
    "\n",
    "ax = fig.add_subplot(111)\n",
    "\n",
    "ax.plot(x, pmf_target, 'bo')\n",
    "\n",
    "ax.vlines(x, 0, pmf_target, lw=2)\n",
    "\n",
    "ax.set_xlabel('# of target in our group of chosen people')\n",
    "\n",
    "ax.set_ylabel('hypergeom PMF')\n",
    "\n",
    "plt.show()"
   ]
  },
  {
   "cell_type": "markdown",
   "metadata": {},
   "source": [
    "<div style=\"text-align: center;\">\n",
    "\n",
    "# 泊松分布\n",
    "\n",
    "</div>"
   ]
  },
  {
   "cell_type": "markdown",
   "metadata": {},
   "source": [
    "<div style=\"text-align: center;\">\n",
    "\n",
    "# $$ f(k)=exp(-\\mu)\\frac{\\mu^k}{k!} $$\n",
    "\n",
    "\n",
    "</div>"
   ]
  },
  {
   "cell_type": "markdown",
   "metadata": {},
   "source": [
    "某神经元在一段时间内平均放电6次。我们想要知道在下一段同样的时间内，该神经元会放电多少次。"
   ]
  },
  {
   "cell_type": "code",
   "execution_count": 11,
   "metadata": {},
   "outputs": [
    {
     "data": {
      "image/png": "[encoded data removed]",
      "text/plain": [
       "<Figure size 432x288 with 1 Axes>"
      ]
     },
     "metadata": {
      "needs_background": "light"
     },
     "output_type": "display_data"
    }
   ],
   "source": [
    "fig, ax = plt.subplots(1, 1)\n",
    "mu = 6\n",
    "mean, var, skew, kurt = poisson.stats(mu, moments='mvsk')\n",
    "x = np.arange(poisson.ppf(0.01, mu),\n",
    "              poisson.ppf(0.99, mu))\n",
    "ax.plot(x, poisson.pmf(x, mu), 'bo', ms=8, label='poisson pmf')\n",
    "ax.vlines(x, 0, poisson.pmf(x, mu), colors='b', lw=5, alpha=0.5)\n",
    "\n",
    "plt.show()"
   ]
  },
  {
   "cell_type": "markdown",
   "metadata": {},
   "source": [
    "<div style=\"text-align: center;\">\n",
    "\n",
    "# 连续概率分布\n",
    "\n",
    "</div>"
   ]
  },
  {
   "cell_type": "markdown",
   "metadata": {},
   "source": [
    "<div style=\"text-align: center;\">\n",
    "\n",
    "# 二项分布，当n-> $\\infty$\n",
    "\n",
    "</div>"
   ]
  },
  {
   "cell_type": "code",
   "execution_count": 26,
   "metadata": {},
   "outputs": [
    {
     "data": {
      "text/plain": [
       "<BarContainer object of 1001 artists>"
      ]
     },
     "execution_count": 26,
     "metadata": {},
     "output_type": "execute_result"
    },
    {
     "data": {
      "image/png": "[encoded data removed]",
      "text/plain": [
       "<Figure size 432x288 with 1 Axes>"
      ]
     },
     "metadata": {
      "needs_background": "light"
     },
     "output_type": "display_data"
    }
   ],
   "source": [
    "p = 0.5\n",
    "k = np.linspace(0,1000,1001)\n",
    "n = 1000\n",
    "\n",
    "prob = binom.pmf(k,n,p)\n",
    "\n",
    "plt.bar(k,prob,width=1)"
   ]
  },
  {
   "cell_type": "markdown",
   "metadata": {},
   "source": [
    "当二项分布的参数你趋近于无穷大时，二项分布近似正态分布"
   ]
  },
  {
   "cell_type": "markdown",
   "metadata": {},
   "source": [
    "<div style=\"text-align: center;\">\n",
    "\n",
    "# 正态分布(Normal distribution)\n",
    "\n",
    "</div>"
   ]
  },
  {
   "cell_type": "markdown",
   "metadata": {},
   "source": [
    "<div style=\"text-align: center;\">\n",
    "\n",
    "# $$ x \\sim N(\\mu, \\sigma^2) $$\n",
    "\n",
    "\n",
    "# $$ f(x) = \\frac{1}{\\sigma \\surd {2\\pi}}e^{-\\frac{(x-\\mu)^2}{2\\sigma^2}} $$\n",
    "\n",
    "</div>"
   ]
  },
  {
   "cell_type": "code",
   "execution_count": 13,
   "metadata": {},
   "outputs": [
    {
     "data": {
      "image/png": "[encoded data removed]",
      "text/plain": [
       "<Figure size 432x288 with 1 Axes>"
      ]
     },
     "metadata": {
      "needs_background": "light"
     },
     "output_type": "display_data"
    }
   ],
   "source": [
    "fig, ax = plt.subplots(1, 1)\n",
    "mean, var, skew, kurt = norm.stats(moments='mvsk')\n",
    "\n",
    "x = np.linspace(norm.ppf(0.01),\n",
    "                norm.ppf(0.99), 100)\n",
    "ax.plot(x, norm.pdf(x),\n",
    "       'r-', lw=5, alpha=0.6, label='norm pdf')\n",
    "rv = norm()\n",
    "ax.plot(x, rv.pdf(x), 'k-', lw=2, label='frozen pdf')\n",
    "\n",
    "\n",
    "vals = norm.ppf([0.001, 0.5, 0.999])\n",
    "np.allclose([0.001, 0.5, 0.999], norm.cdf(vals))\n",
    "\n",
    "r = norm.rvs(size=1000)\n",
    "ax.hist(r, density=True, histtype='stepfilled', alpha=0.2)\n",
    "plt.show()"
   ]
  },
  {
   "cell_type": "markdown",
   "metadata": {},
   "source": [
    "<div style=\"text-align: center;\">\n",
    "\n",
    "# 正态分布(Normal distribution)，当$\\mu$不同时\n",
    "\n",
    "</div>"
   ]
  },
  {
   "cell_type": "code",
   "execution_count": 44,
   "metadata": {},
   "outputs": [
    {
     "data": {
      "text/plain": [
       "<BarContainer object of 20 artists>"
      ]
     },
     "execution_count": 44,
     "metadata": {},
     "output_type": "execute_result"
    },
    {
     "data": {
      "image/png": "[encoded data removed]",
      "text/plain": [
       "<Figure size 432x288 with 1 Axes>"
      ]
     },
     "metadata": {
      "needs_background": "light"
     },
     "output_type": "display_data"
    }
   ],
   "source": [
    "# mu = 0，sigma = 1\n",
    "x= np.linspace(-3,3,20)\n",
    "prob=norm.pdf(x,0,1)\n",
    "\n",
    "plt.bar(x,prob)\n",
    "\n",
    "# mu = 1，sigma = 1\n",
    "x= np.linspace(-3,3,20)\n",
    "prob=norm.pdf(x,1,1)\n",
    "\n",
    "plt.bar(x,prob)\n",
    "\n",
    "# mu = 2，sigma = 1\n",
    "x= np.linspace(-3,3,20)\n",
    "prob=norm.pdf(x,2,1)\n",
    "\n",
    "plt.bar(x,prob)"
   ]
  },
  {
   "cell_type": "markdown",
   "metadata": {},
   "source": [
    "<div style=\"text-align: center;\">\n",
    "\n",
    "# 正态分布(Normal distribution)，当$\\sigma$不同时\n",
    "\n",
    "</div>"
   ]
  },
  {
   "cell_type": "code",
   "execution_count": 47,
   "metadata": {},
   "outputs": [
    {
     "data": {
      "text/plain": [
       "<BarContainer object of 20 artists>"
      ]
     },
     "execution_count": 47,
     "metadata": {},
     "output_type": "execute_result"
    },
    {
     "data": {
      "image/png": "[encoded data removed]",
      "text/plain": [
       "<Figure size 432x288 with 1 Axes>"
      ]
     },
     "metadata": {
      "needs_background": "light"
     },
     "output_type": "display_data"
    }
   ],
   "source": [
    "# mu = 0，sigma = 0.5\n",
    "x= np.linspace(-3,3,20)\n",
    "prob=norm.pdf(x,0,0.5)\n",
    "\n",
    "plt.bar(x,prob)\n",
    "\n",
    "# mu = 0，sigma = 1\n",
    "x= np.linspace(-3,3,20)\n",
    "prob=norm.pdf(x,0,1)\n",
    "\n",
    "plt.bar(x,prob)\n",
    "\n",
    "# mu = 0，sigma = 2\n",
    "x= np.linspace(-3,3,20)\n",
    "prob=norm.pdf(x,0,2)\n",
    "\n",
    "plt.bar(x,prob)"
   ]
  },
  {
   "cell_type": "markdown",
   "metadata": {},
   "source": [
    "<div style=\"text-align: center;\">\n",
    "\n",
    "# t分布\n",
    "\n",
    "</div>"
   ]
  },
  {
   "cell_type": "markdown",
   "metadata": {},
   "source": [
    "<div style=\"text-align: center;\">\n",
    "\n",
    "# $$ f(x,v)=\\frac{\\Gamma ((v+1)/2)}{\\sqrt{\\pi v}\\gamma(v/2) }(1+x^2/v) ^{-(v+1)/2} $$\n",
    "\n",
    "</div>"
   ]
  },
  {
   "cell_type": "code",
   "execution_count": 16,
   "metadata": {},
   "outputs": [
    {
     "data": {
      "image/png": "[encoded data removed]",
      "text/plain": [
       "<Figure size 432x288 with 1 Axes>"
      ]
     },
     "metadata": {
      "needs_background": "light"
     },
     "output_type": "display_data"
    }
   ],
   "source": [
    "fig, ax = plt.subplots(1, 1)\n",
    "\n",
    "df = 30\n",
    "\n",
    "# 在参数为0.3的情况下，伯努利分布的平均值m、方差v、峰度s和偏度k\n",
    "mean, var, skew, kurt = t.stats(df, moments='mvsk')\n",
    "\n",
    "\n",
    "x = np.linspace(t.ppf(0.01, df),\n",
    "                t.ppf(0.99, df), 100)\n",
    "\n",
    "ax.plot(x, t.pdf(x, df),\n",
    "       'r-', lw=5, alpha=0.6, label='t pdf')\n",
    "\n",
    "\n",
    "vals = t.ppf([0.001, 0.5, 0.999], df)\n",
    "np.allclose([0.001, 0.5, 0.999], t.cdf(vals, df))\n",
    "\n",
    "r = t.rvs(df, size=1000)\n",
    "ax.hist(r, density=True, histtype='stepfilled', alpha=0.2)\n",
    "ax.legend(loc='best', frameon=False)\n",
    "plt.show()\n"
   ]
  }
 ],
 "metadata": {
  "kernelspec": {
   "display_name": "Python 3.9.13 64-bit (microsoft store)",
   "language": "python",
   "name": "python3"
  },
  "language_info": {
   "codemirror_mode": {
    "name": "ipython",
    "version": 3
   },
   "file_extension": ".py",
   "mimetype": "text/x-python",
   "name": "python",
   "nbconvert_exporter": "python",
   "pygments_lexer": "ipython3",
   "version": "3.9.13"
  },
  "orig_nbformat": 4,
  "vscode": {
   "interpreter": {
    "hash": "7698be9997df07547d4a08fe6d7a8ab77df170c0c470ab0ace6a1c514673cd42"
   }
  }
 },
 "nbformat": 4,
 "nbformat_minor": 2
}
