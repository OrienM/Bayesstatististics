{
 "cells": [
  {
   "cell_type": "markdown",
   "metadata": {},
   "source": [
    "# 高级心理统计\n",
    "## 《贝叶斯推断及其在Python中的实现》\n"
   ]
  },
  {
   "cell_type": "markdown",
   "metadata": {},
   "source": [
    "\n",
    "## 教学目标：\n",
    "\n",
    "（1）理解贝叶斯推断的基本原理；\n",
    "\n",
    "（2）了解Python工具包PyMC3的语法和结构\n",
    "\n",
    "（3）能够使用PyMC3解决传统统计的问题（如层级线性模型）"
   ]
  },
  {
   "cell_type": "markdown",
   "metadata": {},
   "source": [
    "\n",
    "## 考核方式：\n",
    "考勤10%\n",
    "小作业：45%\n",
    "\t\n",
    "\t（1）简单的代码作业 notebook\n",
    "\t\n",
    "\t（2）概念理解 notebook\n",
    "\t\n",
    "\t（3）workflow notebook\n",
    "\n",
    "大作业：45%\n",
    "\t\n",
    "\t真实的数据分析（分工、完整度、呈现）\n"
   ]
  },
  {
   "cell_type": "markdown",
   "metadata": {},
   "source": [
    "\n",
    "## 风格：\n",
    "\t（1）内容有挑战、考核不复杂\n",
    "\t（2）1/3一节课展示或互动抄代码\n",
    "\t（3）专门设有答疑时间，课程内容有一部分很难理解，可以询问助教\n",
    "\n",
    "## 课时\n",
    "8.29 ～ 12.30，18周\n"
   ]
  },
  {
   "cell_type": "markdown",
   "metadata": {},
   "source": [
    "\n",
    "## 大纲\n",
    "# 0 Intro:\n",
    "    \n",
    "（1）：课程介绍\n"
   ]
  },
  {
   "cell_type": "markdown",
   "metadata": {},
   "source": [
    "\n",
    "# I Basics：\n",
    "\n",
    "（2）：贝叶斯与频率主义的对比、概率（离散、连续）/条件概率；\n",
    "\n",
    "（3）：贝叶斯法则/联合分布；\n",
    "\n",
    "（4～6）：Likelihood, Prior （PPC）, Denominator, Posterior （PPC）[student’s Guide, Part II]\n"
   ]
  },
  {
   "cell_type": "markdown",
   "metadata": {},
   "source": [
    "\n",
    "\n",
    "# II现代贝叶斯统计的内在工作机制（sampler）\n",
    "\n",
    "\n",
    "（7）: MCMC\n"
   ]
  },
  {
   "cell_type": "markdown",
   "metadata": {},
   "source": [
    "\n",
    "# III Bayesian Workflow\n",
    "\n",
    "（8）: LM + PyMC3\n",
    "\n",
    "（9）: 诊断\n",
    "\n",
    "（10）.比较\n",
    "\n",
    "（11）.  推断\n",
    "\n"
   ]
  },
  {
   "cell_type": "markdown",
   "metadata": {},
   "source": [
    "\n",
    "## 【总结】\n",
    "\n",
    "# IV Applications\n",
    "\n",
    "（12）：GLM & more LM\n",
    "\n",
    "（13）: 层级模型 LMM （RT/调查数据）\n",
    "\n",
    "（14）: GLMM (信号检验论)\n",
    "\n",
    "（15）: 扩散\n",
    "\n"
   ]
  },
  {
   "cell_type": "markdown",
   "metadata": {},
   "source": [
    "\n",
    "中间：15 ～ 16次课（国庆节可能会放掉一次）\n",
    "\n",
    "第十八次课：次学术报告+大作业讲解\n",
    "\n",
    "\n"
   ]
  }
 ],
 "metadata": {
  "kernelspec": {
   "display_name": "Python 3.9.13 64-bit (windows store)",
   "language": "python",
   "name": "python3"
  },
  "language_info": {
   "name": "python",
   "version": "3.9.13"
  },
  "orig_nbformat": 4,
  "vscode": {
   "interpreter": {
    "hash": "7698be9997df07547d4a08fe6d7a8ab77df170c0c470ab0ace6a1c514673cd42"
   }
  }
 },
 "nbformat": 4,
 "nbformat_minor": 2
}
