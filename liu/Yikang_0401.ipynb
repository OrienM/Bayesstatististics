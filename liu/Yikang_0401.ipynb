{
 "cells": [
  {
   "cell_type": "markdown",
   "metadata": {},
   "source": [
    "# Lecture 4: Likelihood and Maximum Likelihood Estimate\n",
    "\n",
    "## Instructor： 胡传鹏（博士）[Dr. Hu Chuan-Peng]\n",
    "\n",
    "### 南京师范大学心理学院[School of Psychology, Nanjing Normal University]\n",
    " \n"
   ]
  },
  {
   "cell_type": "markdown",
   "metadata": {},
   "source": [
    "## Recap of previous lecture\n",
    "\n",
    "\n",
    "### Conditional Probability (条件概率)\n",
    "#### $P(A|B) = \\frac{ P(B|A)*P(A)} {P(B)}$\n",
    "\n",
    "\n"
   ]
  },
  {
   "cell_type": "markdown",
   "metadata": {},
   "source": [
    "### Parameters (模型参数)\n",
    "\n",
    "#### 伯努利分布\n",
    "####  $f(k,p) = p^{k}(1-p)^{1-k}$\n",
    "\n",
    "\n",
    "#### 二项分布(Binomial distribution)\n",
    "#### $b(k,n,p) = \\binom{k}{n} p^{k}(1-p)^{n-k}$\n",
    "\n",
    "#### 超几何分布\n",
    "#### $p(k,n,K,N)=\\frac{\\binom{K}{k}\\binom{N-K}{n-k} }{\\binom{N}{n} }$\n"
   ]
  },
  {
   "cell_type": "markdown",
   "metadata": {},
   "source": [
    "#### 泊松分布\n",
    "#### $f(k)=exp(-\\mu)\\frac{\\mu^k}{k!}$\n",
    "\n",
    "#### 正态分布(Normal distribution)\n",
    "#### $f(x) = \\frac{1}{\\sigma \\surd {2\\pi}}e^{-\\frac{(x-\\mu)^2}{2\\sigma^2}}$\n",
    "\n",
    "#### t分布(Normal distribution)\n",
    "#### $f(x,v)=\\frac{\\Gamma ((v+1)/2)}{\\sqrt{\\pi v}\\gamma(v/2) }(1+x^2/v) ^{-(v+1)/2}$\n"
   ]
  },
  {
   "cell_type": "markdown",
   "metadata": {},
   "source": [
    "## Goal of this lecture\n",
    "\n",
    "### Understand Bayes Theorem\n",
    "### Understand likelihood and distinguish between likelihood and probability\n",
    "### Understand Maximum Likelihood Estimate"
   ]
  },
  {
   "cell_type": "markdown",
   "metadata": {},
   "source": [
    "## Part 1: Concept of Likelihood\n",
    "\n",
    "### From Bayes rule to Bayes theorem\n"
   ]
  },
  {
   "cell_type": "markdown",
   "metadata": {},
   "source": [
    "#### $P(A|B) = \\frac{ P(B|A)*P(A)} {P(B)}$\n",
    "\n",
    "#### $P(A)$代表事件$A$发生的概率\n",
    "\n",
    "#### $P(B|A)$代表事件$A$发生的情况下，事件$B$发生的条件概率\n",
    "\n",
    "#### $P(B)$代表事件$B$发生的概率\n",
    "\n",
    "#### $P(A|B)$代表事件$B$发生的情况下，事件$A$发生的条件概率\n"
   ]
  },
  {
   "cell_type": "markdown",
   "metadata": {},
   "source": [
    "无论是频率学派还是贝叶斯学派看来，$P(A|B) = \\frac{ P(B|A)*P(A)} {P(B)}$ 仅仅是一种条件概率的计算公式\n",
    "\n",
    "但是在贝叶斯学派的视角中，$P(A|B) = \\frac{ P(B|A)*P(A)} {P(B)}$还可以用来表征对世界的信念\n",
    "\n",
    "在这种情况下，我们对世界的信念来自于某个模型，我们根据观察到的现象不断更新对世界的信念\n",
    "\n",
    "因此，我们可以将贝叶斯公式表述为 $p(\\theta|data)=\\frac{p(data|\\theta)p(\\theta)}{p(data)}$ ，这也被称为贝叶斯定理\n"
   ]
  },
  {
   "cell_type": "markdown",
   "metadata": {},
   "source": [
    "#### $p(\\theta|data)=\\frac{p(data|\\theta)p(\\theta)}{p(data)}$ \n",
    "\n",
    "其中，$p(\\theta)$表示我们对模型参数的先验的信念\n",
    "\n",
    "$p(data|\\theta)$表示我们在某一先验信念下观察到当前现象的概率\n",
    "\n",
    "$p(data)$表示所有情况下我们观察到当前现象的概率之和\n",
    "\n",
    "$p(\\theta|data)$表示我们观察到当前现象的情况下模型参数出现的概率\n",
    "\n"
   ]
  },
  {
   "cell_type": "markdown",
   "metadata": {},
   "source": [
    "![avatar](./figure/friend.png)\n",
    "\n",
    "\n",
    "当我们走在路上看到一个迎面走来一个人，你觉得他看起来像是你的朋友，但又不太确定，这时你会根据贝叶斯定理来更新你脑海中关于这个人是不是你的朋友的信念。\n",
    "\n",
    "我们在脑海中建立一个模型来判断中而换个人是否是我们的朋友\n",
    "\n",
    "在这种情况下，我们将$p(\\theta)$表征为这个人是朋友的先验概率，将$p(data|\\theta)$表征为在相应的先验下观察到当前现象的概率，$p(\\theta|data)$表征为在穿插到当前现象的情况下，判断这个人是否是朋友的概率。\n"
   ]
  },
  {
   "cell_type": "markdown",
   "metadata": {},
   "source": [
    "![avatar](./figure/bayes1.png)\n",
    "\n",
    "当走在朋友居住的街区，你会觉得这个人是你朋友的先验会很大，即使没有那么强的证据，也会觉得这个人是你的朋友\n",
    "\n",
    "\n",
    "当走在陌生的小镇，你会觉得这个人是你朋友的先验会很小，在证据不是很强的情况下，也会觉得这个人是一个陌生人"
   ]
  },
  {
   "cell_type": "markdown",
   "metadata": {},
   "source": [
    "![avatar](./figure/bayes22.png)\n",
    "\n",
    "当走在朋友居住的街区，你会觉得这个人是你朋友的先验会很大，但是当那个人走近你，你会发现他长的并不像你的朋友，你会做出这个人不是你的朋友的判断\n",
    "\n",
    "当走在朋友居住的街区，你会觉得这个人是你朋友的先验会很大，但是当那个人走近你，你他长的很像你的朋友，你会做出这个人是你的朋友的判断"
   ]
  },
  {
   "cell_type": "markdown",
   "metadata": {},
   "source": [
    "### What is likelihood vs. probability\n"
   ]
  },
  {
   "cell_type": "markdown",
   "metadata": {},
   "source": [
    "贝叶斯公式解释了我们如何计算后验概率分布：\n",
    "\n",
    "#### $p(\\theta|data)=\\frac{\\pmb{p(data|\\theta)}p(\\theta)}{p(data)}$ \n",
    "\n",
    "其中，我们将 $p(data|\\theta)$ 称为似然"
   ]
  },
  {
   "cell_type": "markdown",
   "metadata": {},
   "source": [
    "为了理解似然，我们可以用一个简单抛硬币的例子来进行解释。\n",
    "\n",
    "我们忽略硬币投掷的角度，硬币在表面上的高度以及任何其他细节。\n",
    "\n",
    "我们没有办法在投掷硬币前知道投掷硬币的结果，所以投掷硬币的结果对我们来说是不确定的。\n"
   ]
  },
  {
   "cell_type": "markdown",
   "metadata": {},
   "source": [
    "我们可以用模型来对这种情况进行表征"
   ]
  },
  {
   "cell_type": "markdown",
   "metadata": {},
   "source": [
    "**该模型的第一个假设为**：在假定硬币是公平的情况下，我们可以知道硬币正面朝上的概率是1/2.\n",
    "\n",
    "若 $\\theta$ 表示硬币正面朝上的概率，则 $\\theta=1/2$\n",
    "\n"
   ]
  },
  {
   "cell_type": "markdown",
   "metadata": {},
   "source": [
    "**该模型的第二个假设为**：如果该硬币投掷两次，第一次投掷的结果不会对第二次投掷的结果产生影响。\n",
    "\n",
    "即该硬币每一次投掷的结果是相互独立的。"
   ]
  },
  {
   "cell_type": "markdown",
   "metadata": {},
   "source": [
    "我们可以对投掷两次硬币，两次正面朝上的概率进行计算：\n",
    "\n",
    "$Pr(H,H|\\theta,Model)=Pr(H|\\theta,Model)*Pr(H|\\theta,Model) = \\theta * \\theta = (1/2)^{2}=1/4$\n",
    "\n"
   ]
  },
  {
   "cell_type": "markdown",
   "metadata": {},
   "source": [
    "我们还可以对投掷两次硬币，所有正面朝上的情况的概率进行计算：\n",
    "\n",
    "投掷硬币两次，正面朝上的情况有3种：正面朝上的次数分别为0，1，2"
   ]
  },
  {
   "cell_type": "markdown",
   "metadata": {},
   "source": [
    "\n",
    "<div style=\"text-align: center;\">\t\n",
    "\t\n",
    "**三种情况下的概率分布图**\t\n",
    "\n",
    "</div>\n",
    "\n",
    "![avatar](./figure/coin_prob.png)\n",
    "\n",
    "- 每种情况下的概率都是非负数\n",
    "\n",
    "- 所有情况下的概率之和为1"
   ]
  },
  {
   "cell_type": "markdown",
   "metadata": {},
   "source": [
    "当我们固定 $\\theta$，我们会得到一个关于所有可能情况的概率分布。\n",
    "\n",
    "那么为什么我们将$p(data|\\theta)$ 称为likelihood(似然)，而不是probablity(概率)？"
   ]
  },
  {
   "cell_type": "markdown",
   "metadata": {},
   "source": [
    "在贝叶斯推理中，我们不保持模型的参数$\\theta$固定，即数据是固定的，参数是变化的。"
   ]
  },
  {
   "cell_type": "markdown",
   "metadata": {},
   "source": [
    "若模型的$\\theta$未知，但是硬币投掷的结果已知，我们需要根据硬币投掷的结果来推断模型的$\\theta$。\n",
    "\n",
    "即我们计算在$\\theta$取不同值的情况下，出现当前结果的概率$p(data|\\theta)$。\n",
    "\n"
   ]
  },
  {
   "cell_type": "markdown",
   "metadata": {},
   "source": [
    "<div style=\"text-align: center;\">\t\n",
    "\t\n",
    "**投掷硬币一次的情况下的正面朝上的概率图**\t\n",
    "\n",
    "</div>\n",
    "\n",
    "![avatar](./figure/theta_prob.png)\n",
    "\n",
    "\n",
    "x轴：投掷一次硬币正面朝上的概率$\\theta$\n",
    "\n",
    "y轴：投掷一次硬币观察到的结果为硬币正面朝上的概率\n"
   ]
  },
  {
   "cell_type": "markdown",
   "metadata": {},
   "source": [
    "若我们投掷两次硬币，得到的结果是正面朝上的次数为1。我们可以计算在任意$\\theta$的情况下出现当前结果的概率。\n",
    "\n",
    "即 $Pr(H,T|\\theta)+Pr(T,H|\\theta) = \\theta(1-\\theta)+\\theta(1-\\theta)=2\\theta(1-\\theta)$"
   ]
  },
  {
   "cell_type": "markdown",
   "metadata": {},
   "source": [
    "<div style=\"text-align: center;\">\t\n",
    "\t\n",
    "**投掷硬币两次的情况下的正面朝上1次的概率图**\t\n",
    "\n",
    "</div>\n",
    "\n",
    "![avatar](./figure/twice_prob.png)"
   ]
  },
  {
   "cell_type": "markdown",
   "metadata": {},
   "source": [
    "$任意\\theta情况下，投掷两次硬币正面朝上次数为1的概率总和$\n",
    "\n",
    "<div style=\"text-align: center;\">\t\n",
    "\t\n",
    "**$\\int 2\\theta(1-\\theta)d\\theta = 1/3 $**\t\n",
    "\n",
    "</div>\n",
    "\n",
    "\n",
    "$任意\\theta情况下，投掷两次硬币正面朝上次数为1的概率总和\\ne 1$"
   ]
  },
  {
   "cell_type": "markdown",
   "metadata": {},
   "source": [
    "所以该分布不是一个有效的概率分布。\n",
    "\n",
    "即当我们改变$\\theta$，$p(data|\\theta)$不是一个有效的概率分布\n",
    "\n",
    "于是我们使用likelihood(似然)来描述$p(data|\\theta)$，我们将其表示为$L(\\theta|data)=p(data|\\theta)$"
   ]
  },
  {
   "cell_type": "markdown",
   "metadata": {},
   "source": [
    "## Part 2: likelihood in Python\n",
    "\n",
    "### The probability/likelihood for two coin flips\n"
   ]
  },
  {
   "cell_type": "markdown",
   "metadata": {},
   "source": [
    "我们可以使用另一个例子来描述似然和概率的差异。\n",
    "\n",
    "若我们投掷一个硬币两次，我们可以考虑一下所有可能发生的情况。\n",
    "\n",
    "$Pr(X=0|\\theta)=Pr(T,T|\\theta)=Pr(T|\\theta)*Pr(T|\\theta)=(1-\\theta)^2$\n",
    "\n",
    "$Pr(X=1|\\theta)=Pr(H,T|\\theta)+Pr(T,H|\\theta)=2*Pr(T|\\theta)*Pr(H|\\theta)=2\\theta(1-\\theta)$\n",
    "\n",
    "$Pr(X=2|\\theta)=Pr(H,H|\\theta)=Pr(H|\\theta)*Pr(H|\\theta)=\\theta^2$"
   ]
  },
  {
   "cell_type": "code",
   "execution_count": null,
   "metadata": {},
   "outputs": [],
   "source": [
    "# 投掷一个硬币两次，如何求不同theta下，正面朝上的次数的概率\n",
    "\n",
    "# 计算投掷一个硬币两次，theta为0.2的情况下，正面朝上的次数为2的概率\n",
    "\n",
    "# theta 为0.2\n",
    "theta = 0.2\n",
    "\n",
    "# Pr(X=2|\\theta)=\\theta^2\n",
    "prob = (theta**2)*((1-theta)**0)\n",
    "\n",
    "# 输出结果\n",
    "print(f\"投掷一个硬币两次，theta为0.2的情况下，正面朝上的次数为2的概率为{prob}\")"
   ]
  },
  {
   "cell_type": "code",
   "execution_count": null,
   "metadata": {},
   "outputs": [],
   "source": [
    "######################################################\n",
    "# 练习阶段 计算表格中对应概率\n",
    "######################################################"
   ]
  },
  {
   "cell_type": "markdown",
   "metadata": {},
   "source": [
    "我们可以预设$\\theta \\in  [ 0,0.2,0.4,0.6,0.8,1.0 ] $\n",
    "\n",
    "\n",
    "| $\\theta$  |      0      |  1 |      2      |  Total |\n",
    "|----------|:-------------:|------:|:-------------:|------:|\n",
    "| 0 |   | |   | |\n",
    "| 0.2 |       | |  | |\n",
    "| 0.4 |  | |   |  |\n",
    "| 0.6 |  | |   |  |\n",
    "| 0.8 |    | |  | |\n",
    "| 1.0 |  |   |  | |\n",
    "| Total | |  |  | |"
   ]
  },
  {
   "cell_type": "markdown",
   "metadata": {},
   "source": [
    "| $\\theta$  |      0      |  1 |      2      |  Total |\n",
    "|----------|:-------------:|------:|:-------------:|------:|\n",
    "| 0 |  1 |0 | 0  |1 |\n",
    "| 0.2 |   0.64    |0.32 | 0.04 |1 |\n",
    "| 0.4 | 0.36 |0.48 | 0.16  | 1 |\n",
    "| 0.6 | 0.16 | 0.48| 0.36  | 1 |\n",
    "| 0.8 |  0.04  |0.32 |0.64  |1 |\n",
    "| 1.0 | 0 |  0 | 1 |1 |\n",
    "| Total |2.2 | 1.6 | 2.2 | |"
   ]
  },
  {
   "cell_type": "markdown",
   "metadata": {},
   "source": [
    "### How to choose an appropriate likelihood\n"
   ]
  },
  {
   "cell_type": "code",
   "execution_count": null,
   "metadata": {},
   "outputs": [],
   "source": [
    "#插入个体例子，事件和概率分布联系起来"
   ]
  },
  {
   "cell_type": "markdown",
   "metadata": {},
   "source": [
    "我们有一组样本量为N的个体，我们想要制作一个模型，这个模型能够描述样本中患病数Z的概率。（）"
   ]
  },
  {
   "cell_type": "markdown",
   "metadata": {},
   "source": [
    "在制作模型前，我们进行了一些简单的假设\n",
    "\n",
    "假设1：每个人患病的概率是相互独立的\n",
    "\n",
    "假设2：样本中的个体来自同一总体\n"
   ]
  },
  {
   "cell_type": "markdown",
   "metadata": {},
   "source": [
    "每个人患病的概率为：\n",
    "$\\theta为个体患病的概率$\n",
    "\n",
    "$Pr(X=\\alpha|\\theta)=\\theta^\\alpha(1-\\theta)^{1-\\alpha}$\n",
    "\n",
    "$\\alpha = 0  / 1$"
   ]
  },
  {
   "cell_type": "markdown",
   "metadata": {},
   "source": [
    "#### 若N=2，两个人患病的概率为：\n",
    "\n",
    "$Pr(X_1=\\alpha_1,X_2=\\alpha_2|\\theta_1,\\theta_2)=Pr(X_1=\\alpha_1|\\theta_1)*Pr(X_2=\\alpha_2|\\theta_2)=\\theta_1^{\\alpha_1}(1-\\theta_1)^{1-\\alpha_1}*\\theta_2^{\\alpha_2}(1-\\theta_2)^{1-\\alpha_2}$\n",
    "\n",
    "$\\alpha = 0  / 1$"
   ]
  },
  {
   "cell_type": "markdown",
   "metadata": {},
   "source": [
    "若$ \\theta = \\theta_1 =\\theta_2 $，两个人患病的概率为：\n",
    "\n",
    "$Pr(X_1=\\alpha_1,X_2=\\alpha_2|\\theta)=\\theta^{\\alpha_1}(1-\\theta)^{1-\\alpha_1}*\\theta^{\\alpha_2}(1-\\theta)^{1-\\alpha_2}=\\theta^{\\alpha_1 + \\alpha_2}(1-\\theta)^{2-\\alpha_1-\\alpha_2}$\n",
    "\n",
    "$\\alpha = 0  / 1$"
   ]
  },
  {
   "cell_type": "markdown",
   "metadata": {},
   "source": [
    "# Example:\n",
    "\n",
    "若$\\theta_1=0.4$, $\\theta_1=0.7$ ，2个人中有一个人患病的概率为多少？"
   ]
  },
  {
   "cell_type": "code",
   "execution_count": null,
   "metadata": {},
   "outputs": [],
   "source": [
    "# 定义一个函数，这个函数可以用来计算每一个个体患病的概率\n",
    "\n",
    "# def 定义函数名，()内为函数的参数\n",
    "# alpha = 0 为个体未患病\n",
    "# alpha = 1 为个体未患病\n",
    "# theta为个体患病的概率\n",
    "def porb(alpha,theta): \n",
    "\n",
    "    # return 后为该函数返回的对象\n",
    "    return (theta**alpha)*((1-theta)**(1-alpha)) \n",
    "\n",
    "# 个体1患病\n",
    "alpha1 = 1\n",
    "# 个体2不患病\n",
    "alpha2= 0\n",
    "# 个体1患病的概率为0.4\n",
    "theta1 = 0.4\n",
    "# 个体1患病的概率为0.7\n",
    "theta1 = 0.7\n",
    "\n",
    "# 计算个体1患病的概率\n",
    "prob1 = prob(alpha1,theta1)\n",
    "# 计算个体2患病的概率\n",
    "prob2 = prob(alpha2,theta2)\n",
    "\n",
    "# 计算2个个体中有1个患病的概率\n",
    "likelihood = prob1*prob2\n",
    "\n",
    "# 输出结果\n",
    "print(f\"2个人中有一个人患病的概率为{likelihood}\")"
   ]
  },
  {
   "cell_type": "markdown",
   "metadata": {},
   "source": [
    "\n",
    "若$\\theta=0.8$，2个人中有一个人患病的概率为多少？\n"
   ]
  },
  {
   "cell_type": "code",
   "execution_count": 7,
   "metadata": {},
   "outputs": [
    {
     "data": {
      "text/plain": [
       "0.15999999999999998"
      ]
     },
     "execution_count": 7,
     "metadata": {},
     "output_type": "execute_result"
    }
   ],
   "source": [
    "# 定义一个函数，这个函数可以用来计算每一个个体患病的概率\n",
    "\n",
    "# def 定义函数名，()内为函数的参数\n",
    "# alpha = 0 为个体未患病\n",
    "# alpha = 1 为个体未患病\n",
    "# theta为个体患病的概率\n",
    "def porb(alpha,theta):\n",
    "    return (theta**alpha)*((1-theta)**(1-alpha))\n",
    "\n",
    "# 个体1患病\n",
    "alpha1 = 1\n",
    "# 个体2不患病\n",
    "alpha2= 0\n",
    "# 个体患病的概率\n",
    "theta = 0.8\n",
    "\n",
    "# 计算个体1患病的概率\n",
    "prob1 = prob(alpha1,theta)\n",
    "# 计算个体2患病的概率\n",
    "prob2 = prob(alpha2,theta)\n",
    "\n",
    "# 计算2个个体中有1个患病的概率\n",
    "likelihood = prob1*prob2\n",
    "\n",
    "# 输出结果\n",
    "print(f\"2个人中有一个人患病的概率为{likelihood}\")"
   ]
  },
  {
   "cell_type": "markdown",
   "metadata": {},
   "source": [
    "# Q1:\n",
    "\n",
    "若$\\theta=0.2$，2个人中有一个人患病的概率为多少？"
   ]
  },
  {
   "cell_type": "code",
   "execution_count": null,
   "metadata": {},
   "outputs": [],
   "source": [
    "######################################################\n",
    "# 练习阶段\n",
    "######################################################\n",
    "\n",
    "# Tips：如何表征个体患病的情况\n",
    "def porb(alpha,theta):\n",
    "    return (theta**alpha)*((1-theta)**(1-alpha))\n",
    "\n",
    "alpha1 = &&&\n",
    "alpha2= &&&\n",
    "theta = &&&\n",
    "\n",
    "prob1 = prob(alpha1,theta)\n",
    "prob2 = prob(alpha2,theta)\n",
    "\n",
    "likelihood = prob1*prob2\n",
    "\n",
    "\n",
    "print(f\"2个人中有一个人患病的概率为{likelihood}\")"
   ]
  },
  {
   "cell_type": "markdown",
   "metadata": {},
   "source": [
    "# Q2:\n",
    "\n",
    "若$\\theta=0.4$，2个人中有2个人患病的概率为多少？"
   ]
  },
  {
   "cell_type": "code",
   "execution_count": null,
   "metadata": {},
   "outputs": [],
   "source": [
    "######################################################\n",
    "# 练习阶段\n",
    "######################################################\n",
    "\n",
    "# Tips：如何表征个体患病的情况\n",
    "def porb(alpha,theta):\n",
    "    return (theta**alpha)*((1-theta)**(1-alpha))\n",
    "\n",
    "alpha1 = &&&\n",
    "alpha2= &&&\n",
    "theta = &&&\n",
    "\n",
    "prob1 = prob(alpha1,theta)\n",
    "prob2 = prob(alpha2,theta)\n",
    "\n",
    "likelihood = prob1*prob2\n",
    "\n",
    "\n",
    "\n",
    "print(f\"2个人中有2个人患病的概率为{likelihood}\")"
   ]
  },
  {
   "cell_type": "markdown",
   "metadata": {},
   "source": [
    "$Z=X_1+X_2$\n",
    "\n",
    "患病人数的情况可以用下列公式进行表示：\n",
    "\n",
    "$ Pr(Z=0|\\theta) = Pr(X_1 =0 , X_2 = 0| \\theta) = (1-\\theta)^2 $\n",
    "\n",
    "$ Pr(Z=1|\\theta) = Pr(X_1 =1 , X_2 = 0| \\theta) = 2\\theta(1-\\theta) $\n",
    "\n",
    "$ Pr(Z=2|\\theta) = Pr(X_1 =1 , X_2 = 1| \\theta) = \\theta^2 $"
   ]
  },
  {
   "cell_type": "markdown",
   "metadata": {},
   "source": [
    "这个公式可以用一个普遍的形式进行表达：\n",
    "\n",
    "$ Pr(Z=\\beta|\\theta) = \\binom{2}{\\beta} \\theta^{\\beta}(1-\\theta)^{2-\\beta}$"
   ]
  },
  {
   "cell_type": "markdown",
   "metadata": {},
   "source": [
    "#### 当N=3时，患病人数的情况可以用下列公式进行表示：\n",
    "\n",
    "\n",
    "$ Pr(Z=0|\\theta) = Pr(X_1 =0 , X_2 = 0, X_3 = 0| \\theta)  $\n",
    "\n",
    "$ Pr(Z=1|\\theta) = 3Pr(X_1 =1 , X_2 = 0, X_3 = 0| \\theta)  $\n",
    "\n",
    "$ Pr(Z=2|\\theta) = 3Pr(X_1 =1 , X_2 = 1, X_3 = 0| \\theta) $\n",
    "\n",
    "$ Pr(Z=3|\\theta) = Pr(X_1 =1 , X_2 = 1, X_3 = 1| \\theta)  $"
   ]
  },
  {
   "cell_type": "markdown",
   "metadata": {},
   "source": [
    "这个公式可以用一个普遍的形式进行表达：\n",
    "\n",
    "$ Pr(Z=\\beta|\\theta) = \\binom{3}{\\beta} \\theta^{\\beta}(1-\\theta)^{3-\\beta}$"
   ]
  },
  {
   "cell_type": "markdown",
   "metadata": {},
   "source": [
    "# Example:\n",
    "\n",
    "若$\\theta_1=0.5$，3个人中有一个人患病的概率为多少？"
   ]
  },
  {
   "cell_type": "code",
   "execution_count": 8,
   "metadata": {},
   "outputs": [],
   "source": [
    "# comb这个函数是专门用来算组合数的\n",
    "from scipy.special import comb\n"
   ]
  },
  {
   "cell_type": "code",
   "execution_count": 10,
   "metadata": {},
   "outputs": [
    {
     "data": {
      "text/plain": [
       "0.09599999999999996"
      ]
     },
     "execution_count": 10,
     "metadata": {},
     "output_type": "execute_result"
    }
   ],
   "source": [
    "# 定义一个函数，这个函数可以用来计算n个个体中m人患病的概率\n",
    "\n",
    "# def 定义函数名，()内为函数的参数\n",
    "# n为个体数\n",
    "# m为患病人数\n",
    "# theta为个体患病的概率\n",
    "def likelihood(n,m,theta):\n",
    "    return comb(n,m)*((theta)**(m))*((1-theta)**(n-m))\n",
    "\n",
    "# 个体患病概率为0.8\n",
    "theta = 0.8\n",
    "# 共有3个个体\n",
    "n=3\n",
    "# 患病人数为1\n",
    "m=1\n",
    "# 计算个体患病概率为0.8的情况下，3个个体中1人患病的概率\n",
    "likelihood = likelihood(n,m,theta)\n",
    "\n",
    "\n",
    "# 输出结果\n",
    "print(f\"个体患病概率为0.8的情况下，3个个体中1人患病的概率为{likelihood}\")"
   ]
  },
  {
   "cell_type": "markdown",
   "metadata": {},
   "source": [
    "当N=N时，患病人数的情况可以用一般公式进行表示：\n",
    "\n",
    "$ Pr(Z=\\beta|\\theta) = \\binom{N}{\\beta} \\theta^{\\beta}(1-\\theta)^{N-\\beta}$"
   ]
  },
  {
   "cell_type": "markdown",
   "metadata": {},
   "source": [
    "# Q3:\n",
    "\n",
    "若$\\theta=0.5$，10个人中有5个人患病的概率为多少？"
   ]
  },
  {
   "cell_type": "code",
   "execution_count": null,
   "metadata": {},
   "outputs": [],
   "source": [
    "######################################################\n",
    "# 练习阶段\n",
    "######################################################\n",
    "\n",
    "#tips：若theta=0.5，10个个体，5个人患病该如何表征？\n",
    "def likelihood(n,m,theta):\n",
    "    return comb(n,m)*((theta)**(m))*((1-theta)**(n-m))\n",
    "\n",
    "\n",
    "\n",
    "theta =&&&&\n",
    "n=&&&&\n",
    "m=&&&&\n",
    "likelihood = likelihood(n,m,theta)\n",
    "\n",
    "print(f\"个体患病概率为0.5的情况下，10个个体中5人患病的概率为{likelihood}\")"
   ]
  }
 ],
 "metadata": {
  "kernelspec": {
   "display_name": "Python 3.9.13 64-bit (microsoft store)",
   "language": "python",
   "name": "python3"
  },
  "language_info": {
   "codemirror_mode": {
    "name": "ipython",
    "version": 3
   },
   "file_extension": ".py",
   "mimetype": "text/x-python",
   "name": "python",
   "nbconvert_exporter": "python",
   "pygments_lexer": "ipython3",
   "version": "3.9.13"
  },
  "orig_nbformat": 4,
  "vscode": {
   "interpreter": {
    "hash": "7698be9997df07547d4a08fe6d7a8ab77df170c0c470ab0ace6a1c514673cd42"
   }
  }
 },
 "nbformat": 4,
 "nbformat_minor": 2
}
